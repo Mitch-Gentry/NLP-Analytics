{
 "cells": [
  {
   "cell_type": "markdown",
   "metadata": {},
   "source": [
    "# Classification in sci-kit learn\n",
    "\n",
    "This code predicts the newsgroup from a list of 20 possible news groups. Its trainind on the commonly used 20-newsgroups dataset that is a \"unusual\" clasification dataset in that each newsgroup is very distinctive, leading to picking models that do better with this kind of data.\n",
    "\n",
    "The code does the following:\n",
    "1. counts words \n",
    "2. weights word count features with TFIDF weighting \n",
    "3. predicts the newsgroup from the weighted features\n",
    "\n",
    "Code came from examples at:\n",
    "1. http://scikit-learn.org/stable/tutorial/text_analytics/working_with_text_data.html\n",
    "2. http://scikit-learn.org/stable/auto_examples/hetero_feature_union.html\n",
    "\n",
    "20 newsgroups dataset info is at http://scikit-learn.org/stable/datasets/index.html#the-20-newsgroups-text-dataset\n",
    "\n",
    "Be sure to install the following (pip3 is python 3 and pip command will also work):\n",
    "1. `pip3 install sklearn`\n",
    "2. `pip3 install pandas`\n",
    "2. `pip3 install scipy`\n"
   ]
  },
  {
   "cell_type": "code",
   "execution_count": 1,
   "metadata": {
    "collapsed": true
   },
   "outputs": [],
   "source": [
    "import pandas as pd\n",
    "import numpy as np\n",
    "import matplotlib.pyplot as plt\n",
    "%matplotlib inline \n",
    "from IPython.core.display import display, HTML\n",
    "\n",
    "from sklearn.feature_extraction.text import CountVectorizer, TfidfTransformer, TfidfVectorizer\n",
    "from sklearn.pipeline import Pipeline\n",
    "from sklearn.naive_bayes import MultinomialNB\n",
    "from sklearn.linear_model import SGDClassifier\n",
    "\n",
    "import time"
   ]
  },
  {
   "cell_type": "markdown",
   "metadata": {},
   "source": [
    "# Load Dataset"
   ]
  },
  {
   "cell_type": "code",
   "execution_count": 2,
   "metadata": {
    "collapsed": true
   },
   "outputs": [],
   "source": [
    "from sklearn.datasets import fetch_20newsgroups\n",
    "#categories = ['alt.atheism', 'soc.religion.christian','comp.graphics', 'sci.med']\n",
    "#categories = ['comp.graphics', 'sci.med']\n",
    "#categories = ['alt.atheism', 'talk.religion.misc']\n",
    "categories=None\n",
    "twenty_train = fetch_20newsgroups(subset='train',\n",
    "    categories=categories, shuffle=True, random_state=42)\n",
    "\n",
    "twenty_test = fetch_20newsgroups(subset='test',\n",
    "    categories=categories, shuffle=True, random_state=42)"
   ]
  },
  {
   "cell_type": "markdown",
   "metadata": {},
   "source": [
    "# Investigate Training Set"
   ]
  },
  {
   "cell_type": "code",
   "execution_count": 3,
   "metadata": {},
   "outputs": [
    {
     "data": {
      "text/plain": [
       "['alt.atheism',\n",
       " 'comp.graphics',\n",
       " 'comp.os.ms-windows.misc',\n",
       " 'comp.sys.ibm.pc.hardware',\n",
       " 'comp.sys.mac.hardware',\n",
       " 'comp.windows.x',\n",
       " 'misc.forsale',\n",
       " 'rec.autos',\n",
       " 'rec.motorcycles',\n",
       " 'rec.sport.baseball',\n",
       " 'rec.sport.hockey',\n",
       " 'sci.crypt',\n",
       " 'sci.electronics',\n",
       " 'sci.med',\n",
       " 'sci.space',\n",
       " 'soc.religion.christian',\n",
       " 'talk.politics.guns',\n",
       " 'talk.politics.mideast',\n",
       " 'talk.politics.misc',\n",
       " 'talk.religion.misc']"
      ]
     },
     "execution_count": 3,
     "metadata": {},
     "output_type": "execute_result"
    }
   ],
   "source": [
    "twenty_train.target_names"
   ]
  },
  {
   "cell_type": "code",
   "execution_count": 4,
   "metadata": {},
   "outputs": [
    {
     "data": {
      "text/plain": [
       "11314"
      ]
     },
     "execution_count": 4,
     "metadata": {},
     "output_type": "execute_result"
    }
   ],
   "source": [
    "len(twenty_train.data)"
   ]
  },
  {
   "cell_type": "code",
   "execution_count": 5,
   "metadata": {},
   "outputs": [
    {
     "data": {
      "text/plain": [
       "11314"
      ]
     },
     "execution_count": 5,
     "metadata": {},
     "output_type": "execute_result"
    }
   ],
   "source": [
    "len(twenty_train.filenames)"
   ]
  },
  {
   "cell_type": "code",
   "execution_count": 6,
   "metadata": {},
   "outputs": [
    {
     "name": "stdout",
     "output_type": "stream",
     "text": [
      "From: lerxst@wam.umd.edu (where's my thing)\n",
      "Subject: WHAT car is this!?\n",
      "Nntp-Posting-Host: rac3.wam.umd.edu\n",
      "Organization: University of Maryland, College Park\n",
      "Lines: 15\n",
      "\n",
      " I was wondering if anyone out there could enlighten me on this car I saw\n",
      "the other day. It was a 2-door sports car, looked to be from the late 60s/\n",
      "early 70s. It was called a Bricklin. The doors were really small. In addition,\n",
      "the front bumper was separate from the rest of the body. This is \n",
      "all I know. If anyone can tellme a model name, engine specs, years\n",
      "of production, where this car is made, history, or whatever info you\n",
      "have on this funky looking car, please e-mail.\n",
      "\n",
      "Thanks,\n",
      "- IL\n",
      "   ---- brought to you by your neighborhood Lerxst ----\n",
      "\n",
      "\n",
      "\n",
      "\n",
      "\n"
     ]
    }
   ],
   "source": [
    "print(twenty_train.data[0])"
   ]
  },
  {
   "cell_type": "code",
   "execution_count": 7,
   "metadata": {},
   "outputs": [
    {
     "data": {
      "text/plain": [
       "'rec.autos'"
      ]
     },
     "execution_count": 7,
     "metadata": {},
     "output_type": "execute_result"
    }
   ],
   "source": [
    "twenty_train.target_names[twenty_train.target[0]]"
   ]
  },
  {
   "cell_type": "code",
   "execution_count": 8,
   "metadata": {},
   "outputs": [
    {
     "data": {
      "text/plain": [
       "array([7, 4, 4, ..., 3, 1, 8])"
      ]
     },
     "execution_count": 8,
     "metadata": {},
     "output_type": "execute_result"
    }
   ],
   "source": [
    "twenty_train.target"
   ]
  },
  {
   "cell_type": "code",
   "execution_count": 9,
   "metadata": {},
   "outputs": [
    {
     "data": {
      "text/plain": [
       "11314"
      ]
     },
     "execution_count": 9,
     "metadata": {},
     "output_type": "execute_result"
    }
   ],
   "source": [
    "len(twenty_train.target)"
   ]
  },
  {
   "cell_type": "code",
   "execution_count": 10,
   "metadata": {},
   "outputs": [
    {
     "data": {
      "text/plain": [
       "['alt.atheism',\n",
       " 'comp.graphics',\n",
       " 'comp.os.ms-windows.misc',\n",
       " 'comp.sys.ibm.pc.hardware',\n",
       " 'comp.sys.mac.hardware',\n",
       " 'comp.windows.x',\n",
       " 'misc.forsale',\n",
       " 'rec.autos',\n",
       " 'rec.motorcycles',\n",
       " 'rec.sport.baseball',\n",
       " 'rec.sport.hockey',\n",
       " 'sci.crypt',\n",
       " 'sci.electronics',\n",
       " 'sci.med',\n",
       " 'sci.space',\n",
       " 'soc.religion.christian',\n",
       " 'talk.politics.guns',\n",
       " 'talk.politics.mideast',\n",
       " 'talk.politics.misc',\n",
       " 'talk.religion.misc']"
      ]
     },
     "execution_count": 10,
     "metadata": {},
     "output_type": "execute_result"
    }
   ],
   "source": [
    "twenty_train.target_names"
   ]
  },
  {
   "cell_type": "code",
   "execution_count": 11,
   "metadata": {},
   "outputs": [
    {
     "name": "stdout",
     "output_type": "stream",
     "text": [
      "From: v064mb9k@ubvmsd.cc.buffalo.edu (NEIL B. GANDLER)\n",
      "Subject: Need info on 88-89 Bonneville\n",
      "Organization: University at Buffalo\n",
      "Lines: 10\n",
      "News-Software: VAX/VMS VNEWS 1.41\n",
      "Nntp-Posting-Host: ubvmsd.cc.buffalo.edu\n",
      "\n",
      "\n",
      " I am a little confused on all of the models of the 88-89 bonnevilles.\n",
      "I have heard of the LE SE LSE SSE SSEI. Could someone tell me the\n",
      "differences are far as features or performance. I am also curious to\n",
      "know what the book value is for prefereably the 89 model. And how much\n",
      "less than book value can you usually get them for. In other words how\n",
      "much are they in demand this time of year. I have heard that the mid-spring\n",
      "early summer is the best time to buy.\n",
      "\n",
      "\t\t\tNeil Gandler\n",
      "\n"
     ]
    }
   ],
   "source": [
    "print(twenty_test.data[0])"
   ]
  },
  {
   "cell_type": "markdown",
   "metadata": {},
   "source": [
    "## Test Tokenization"
   ]
  },
  {
   "cell_type": "code",
   "execution_count": 12,
   "metadata": {},
   "outputs": [
    {
     "data": {
      "text/plain": [
       "(11314, 130107)"
      ]
     },
     "execution_count": 12,
     "metadata": {},
     "output_type": "execute_result"
    }
   ],
   "source": [
    "count_vect = CountVectorizer()\n",
    "X_train_counts = count_vect.fit_transform(twenty_train.data)\n",
    "X_train_counts.shape\n"
   ]
  },
  {
   "cell_type": "code",
   "execution_count": 13,
   "metadata": {},
   "outputs": [
    {
     "data": {
      "text/plain": [
       "[('from', 56979),\n",
       " ('lerxst', 75358),\n",
       " ('wam', 123162),\n",
       " ('umd', 118280),\n",
       " ('edu', 50527),\n",
       " ('where', 124031),\n",
       " ('my', 85354),\n",
       " ('thing', 114688),\n",
       " ('subject', 111322),\n",
       " ('what', 123984),\n",
       " ('car', 37780),\n",
       " ('is', 68532),\n",
       " ('this', 114731),\n",
       " ('nntp', 87620),\n",
       " ('posting', 95162),\n",
       " ('host', 64095),\n",
       " ('rac3', 98949),\n",
       " ('organization', 90379),\n",
       " ('university', 118983),\n",
       " ('of', 89362),\n",
       " ('maryland', 79666),\n",
       " ('college', 40998),\n",
       " ('park', 92081),\n",
       " ('lines', 76032),\n",
       " ('15', 4605),\n",
       " ('was', 123292),\n",
       " ('wondering', 124931),\n",
       " ('if', 65798),\n",
       " ('anyone', 28615),\n",
       " ('out', 90774),\n",
       " ('there', 114579),\n",
       " ('could', 42876),\n",
       " ('enlighten', 51793),\n",
       " ('me', 80638),\n",
       " ('on', 89860),\n",
       " ('saw', 104813),\n",
       " ('the', 114455),\n",
       " ('other', 90686),\n",
       " ('day', 45295),\n",
       " ('it', 68766),\n",
       " ('door', 48618),\n",
       " ('sports', 109581),\n",
       " ('looked', 76718),\n",
       " ('to', 115475),\n",
       " ('be', 32311),\n",
       " ('late', 74693),\n",
       " ('60s', 16574),\n",
       " ('early', 50111),\n",
       " ('70s', 18299),\n",
       " ('called', 37433)]"
      ]
     },
     "execution_count": 13,
     "metadata": {},
     "output_type": "execute_result"
    }
   ],
   "source": [
    "list(count_vect.vocabulary_.items())[:50]\n"
   ]
  },
  {
   "cell_type": "code",
   "execution_count": 14,
   "metadata": {
    "collapsed": true
   },
   "outputs": [],
   "source": [
    "text = ['The The rain in spain.', 'The brown fox.']\n",
    "sparce_csr_vects = count_vect.transform(text)\n"
   ]
  },
  {
   "cell_type": "code",
   "execution_count": 15,
   "metadata": {},
   "outputs": [
    {
     "data": {
      "text/plain": [
       "array([1, 1, 1, 2, 1, 1, 1])"
      ]
     },
     "execution_count": 15,
     "metadata": {},
     "output_type": "execute_result"
    }
   ],
   "source": [
    "sparce_csr_vects.data"
   ]
  },
  {
   "cell_type": "code",
   "execution_count": 16,
   "metadata": {},
   "outputs": [
    {
     "data": {
      "text/plain": [
       "array([0, 4, 7], dtype=int32)"
      ]
     },
     "execution_count": 16,
     "metadata": {},
     "output_type": "execute_result"
    }
   ],
   "source": [
    "sparce_csr_vects.indptr"
   ]
  },
  {
   "cell_type": "code",
   "execution_count": 17,
   "metadata": {},
   "outputs": [
    {
     "data": {
      "text/plain": [
       "array([ 66608,  99121, 109111, 114455,  35194,  56573, 114455], dtype=int32)"
      ]
     },
     "execution_count": 17,
     "metadata": {},
     "output_type": "execute_result"
    }
   ],
   "source": [
    "sparce_csr_vects.indices"
   ]
  },
  {
   "cell_type": "code",
   "execution_count": 18,
   "metadata": {},
   "outputs": [
    {
     "data": {
      "text/plain": [
       "array([[     0,      0,      0,      0,      1,      1,      1],\n",
       "       [ 66608,  99121, 109111, 114455,  35194,  56573, 114455],\n",
       "       [     1,      1,      1,      2,      1,      1,      1]])"
      ]
     },
     "execution_count": 18,
     "metadata": {},
     "output_type": "execute_result"
    }
   ],
   "source": [
    "from scipy.sparse import coo_matrix\n",
    "coo = coo_matrix(sparce_csr_vects)\n",
    "np.stack((coo.row, coo.col, coo.data))"
   ]
  },
  {
   "cell_type": "code",
   "execution_count": null,
   "metadata": {
    "collapsed": true
   },
   "outputs": [],
   "source": []
  },
  {
   "cell_type": "code",
   "execution_count": 19,
   "metadata": {},
   "outputs": [
    {
     "name": "stdout",
     "output_type": "stream",
     "text": [
      "66608 in\n",
      "99121 rain\n",
      "109111 spain\n",
      "114455 the\n",
      "35194 brown\n",
      "56573 fox\n",
      "114455 the\n"
     ]
    }
   ],
   "source": [
    "terms = np.array(list(count_vect.vocabulary_.keys()))\n",
    "indices = np.array(list(count_vect.vocabulary_.values()))\n",
    "inverse_vocabulary = terms[np.argsort(indices)]\n",
    "\n",
    "for i in coo.col:\n",
    "    print(i, inverse_vocabulary[i])\n"
   ]
  },
  {
   "cell_type": "code",
   "execution_count": 20,
   "metadata": {},
   "outputs": [
    {
     "data": {
      "text/html": [
       "<div>\n",
       "<style>\n",
       "    .dataframe thead tr:only-child th {\n",
       "        text-align: right;\n",
       "    }\n",
       "\n",
       "    .dataframe thead th {\n",
       "        text-align: left;\n",
       "    }\n",
       "\n",
       "    .dataframe tbody tr th {\n",
       "        vertical-align: top;\n",
       "    }\n",
       "</style>\n",
       "<table border=\"1\" class=\"dataframe\">\n",
       "  <thead>\n",
       "    <tr style=\"text-align: right;\">\n",
       "      <th></th>\n",
       "      <th>row</th>\n",
       "      <th>column</th>\n",
       "      <th>count</th>\n",
       "      <th>word</th>\n",
       "    </tr>\n",
       "  </thead>\n",
       "  <tbody>\n",
       "    <tr>\n",
       "      <th>0</th>\n",
       "      <td>0</td>\n",
       "      <td>66608</td>\n",
       "      <td>1</td>\n",
       "      <td>in</td>\n",
       "    </tr>\n",
       "    <tr>\n",
       "      <th>1</th>\n",
       "      <td>0</td>\n",
       "      <td>99121</td>\n",
       "      <td>1</td>\n",
       "      <td>rain</td>\n",
       "    </tr>\n",
       "    <tr>\n",
       "      <th>2</th>\n",
       "      <td>0</td>\n",
       "      <td>109111</td>\n",
       "      <td>1</td>\n",
       "      <td>spain</td>\n",
       "    </tr>\n",
       "    <tr>\n",
       "      <th>3</th>\n",
       "      <td>0</td>\n",
       "      <td>114455</td>\n",
       "      <td>2</td>\n",
       "      <td>the</td>\n",
       "    </tr>\n",
       "    <tr>\n",
       "      <th>4</th>\n",
       "      <td>1</td>\n",
       "      <td>35194</td>\n",
       "      <td>1</td>\n",
       "      <td>brown</td>\n",
       "    </tr>\n",
       "    <tr>\n",
       "      <th>5</th>\n",
       "      <td>1</td>\n",
       "      <td>56573</td>\n",
       "      <td>1</td>\n",
       "      <td>fox</td>\n",
       "    </tr>\n",
       "    <tr>\n",
       "      <th>6</th>\n",
       "      <td>1</td>\n",
       "      <td>114455</td>\n",
       "      <td>1</td>\n",
       "      <td>the</td>\n",
       "    </tr>\n",
       "  </tbody>\n",
       "</table>\n",
       "</div>"
      ],
      "text/plain": [
       "   row  column  count   word\n",
       "0    0   66608      1     in\n",
       "1    0   99121      1   rain\n",
       "2    0  109111      1  spain\n",
       "3    0  114455      2    the\n",
       "4    1   35194      1  brown\n",
       "5    1   56573      1    fox\n",
       "6    1  114455      1    the"
      ]
     },
     "execution_count": 20,
     "metadata": {},
     "output_type": "execute_result"
    }
   ],
   "source": [
    "words = [inverse_vocabulary[i] for i in coo.col]\n",
    "df = pd.DataFrame({'row':coo.row, 'column':coo.col, 'count':coo.data, 'word':words})\n",
    "columns = ['row','column', 'count', 'word']\n",
    "df = df[columns]\n",
    "df"
   ]
  },
  {
   "cell_type": "code",
   "execution_count": 21,
   "metadata": {
    "collapsed": true
   },
   "outputs": [],
   "source": [
    "\n",
    "text_clf = Pipeline([('cvect', CountVectorizer()),\n",
    "                     ('tfidf', TfidfTransformer()),\n",
    "                     ('sgdc', MultinomialNB()),\n",
    "                    ])"
   ]
  },
  {
   "cell_type": "code",
   "execution_count": 22,
   "metadata": {},
   "outputs": [
    {
     "data": {
      "text/plain": [
       "Pipeline(memory=None,\n",
       "     steps=[('vect', CountVectorizer(analyzer='word', binary=False, decode_error='strict',\n",
       "        dtype=<class 'numpy.int64'>, encoding='utf-8', input='content',\n",
       "        lowercase=True, max_df=1.0, max_features=None, min_df=1,\n",
       "        ngram_range=(1, 1), preprocessor=None, stop_words=None,\n",
       "        strip...inear_tf=False, use_idf=True)), ('clf', MultinomialNB(alpha=1.0, class_prior=None, fit_prior=True))])"
      ]
     },
     "execution_count": 22,
     "metadata": {},
     "output_type": "execute_result"
    }
   ],
   "source": [
    "text_clf.fit(twenty_train.data, twenty_train.target)"
   ]
  },
  {
   "cell_type": "code",
   "execution_count": 23,
   "metadata": {},
   "outputs": [
    {
     "data": {
      "text/plain": [
       "0.7738980350504514"
      ]
     },
     "execution_count": 23,
     "metadata": {},
     "output_type": "execute_result"
    }
   ],
   "source": [
    "predicted = text_clf.predict(twenty_test.data)\n",
    "np.mean(predicted == twenty_test.target) "
   ]
  },
  {
   "cell_type": "code",
   "execution_count": 24,
   "metadata": {},
   "outputs": [
    {
     "data": {
      "text/plain": [
       "0.82381837493361654"
      ]
     },
     "execution_count": 24,
     "metadata": {},
     "output_type": "execute_result"
    }
   ],
   "source": [
    "text_clf = Pipeline([('cvect', CountVectorizer()),\n",
    "                      ('tfidf', TfidfTransformer()),\n",
    "                      ('sgdc', SGDClassifier(loss='hinge', penalty='l2',\n",
    "                                            alpha=1e-3, random_state=42,\n",
    "                                            max_iter=5, tol=None)),\n",
    " ])\n",
    "text_clf.fit(twenty_train.data, twenty_train.target)  \n",
    "predicted = text_clf.predict(twenty_test.data)\n",
    "np.mean(predicted == twenty_test.target)"
   ]
  },
  {
   "cell_type": "code",
   "execution_count": 25,
   "metadata": {},
   "outputs": [
    {
     "name": "stdout",
     "output_type": "stream",
     "text": [
      "                          precision    recall  f1-score   support\n",
      "\n",
      "             alt.atheism       0.73      0.72      0.72       319\n",
      "           comp.graphics       0.80      0.70      0.74       389\n",
      " comp.os.ms-windows.misc       0.73      0.76      0.75       394\n",
      "comp.sys.ibm.pc.hardware       0.71      0.70      0.70       392\n",
      "   comp.sys.mac.hardware       0.83      0.81      0.82       385\n",
      "          comp.windows.x       0.83      0.77      0.80       395\n",
      "            misc.forsale       0.84      0.90      0.87       390\n",
      "               rec.autos       0.92      0.89      0.91       396\n",
      "         rec.motorcycles       0.92      0.96      0.94       398\n",
      "      rec.sport.baseball       0.89      0.90      0.89       397\n",
      "        rec.sport.hockey       0.88      0.99      0.93       399\n",
      "               sci.crypt       0.83      0.96      0.89       396\n",
      "         sci.electronics       0.83      0.60      0.70       393\n",
      "                 sci.med       0.87      0.86      0.86       396\n",
      "               sci.space       0.84      0.96      0.89       394\n",
      "  soc.religion.christian       0.76      0.94      0.84       398\n",
      "      talk.politics.guns       0.70      0.92      0.80       364\n",
      "   talk.politics.mideast       0.90      0.93      0.92       376\n",
      "      talk.politics.misc       0.89      0.55      0.68       310\n",
      "      talk.religion.misc       0.85      0.40      0.55       251\n",
      "\n",
      "             avg / total       0.83      0.82      0.82      7532\n",
      "\n"
     ]
    }
   ],
   "source": [
    "from sklearn import metrics\n",
    "print(metrics.classification_report(twenty_test.target, predicted,\n",
    "     target_names=twenty_test.target_names))"
   ]
  },
  {
   "cell_type": "code",
   "execution_count": 26,
   "metadata": {},
   "outputs": [
    {
     "data": {
      "text/html": [
       "<div>\n",
       "<style>\n",
       "    .dataframe thead tr:only-child th {\n",
       "        text-align: right;\n",
       "    }\n",
       "\n",
       "    .dataframe thead th {\n",
       "        text-align: left;\n",
       "    }\n",
       "\n",
       "    .dataframe tbody tr th {\n",
       "        vertical-align: top;\n",
       "    }\n",
       "</style>\n",
       "<table border=\"1\" class=\"dataframe\">\n",
       "  <thead>\n",
       "    <tr style=\"text-align: right;\">\n",
       "      <th></th>\n",
       "      <th>0</th>\n",
       "      <th>1</th>\n",
       "      <th>2</th>\n",
       "      <th>3</th>\n",
       "      <th>4</th>\n",
       "      <th>5</th>\n",
       "      <th>6</th>\n",
       "      <th>7</th>\n",
       "      <th>8</th>\n",
       "      <th>9</th>\n",
       "      <th>10</th>\n",
       "      <th>11</th>\n",
       "      <th>12</th>\n",
       "      <th>13</th>\n",
       "      <th>14</th>\n",
       "      <th>15</th>\n",
       "      <th>16</th>\n",
       "      <th>17</th>\n",
       "      <th>18</th>\n",
       "      <th>19</th>\n",
       "    </tr>\n",
       "  </thead>\n",
       "  <tbody>\n",
       "    <tr>\n",
       "      <th>0</th>\n",
       "      <td>230</td>\n",
       "      <td>0</td>\n",
       "      <td>0</td>\n",
       "      <td>1</td>\n",
       "      <td>0</td>\n",
       "      <td>2</td>\n",
       "      <td>1</td>\n",
       "      <td>0</td>\n",
       "      <td>1</td>\n",
       "      <td>3</td>\n",
       "      <td>0</td>\n",
       "      <td>2</td>\n",
       "      <td>1</td>\n",
       "      <td>11</td>\n",
       "      <td>5</td>\n",
       "      <td>41</td>\n",
       "      <td>2</td>\n",
       "      <td>8</td>\n",
       "      <td>1</td>\n",
       "      <td>10</td>\n",
       "    </tr>\n",
       "    <tr>\n",
       "      <th>1</th>\n",
       "      <td>3</td>\n",
       "      <td>272</td>\n",
       "      <td>21</td>\n",
       "      <td>11</td>\n",
       "      <td>7</td>\n",
       "      <td>25</td>\n",
       "      <td>4</td>\n",
       "      <td>1</td>\n",
       "      <td>3</td>\n",
       "      <td>4</td>\n",
       "      <td>3</td>\n",
       "      <td>9</td>\n",
       "      <td>4</td>\n",
       "      <td>3</td>\n",
       "      <td>9</td>\n",
       "      <td>3</td>\n",
       "      <td>2</td>\n",
       "      <td>4</td>\n",
       "      <td>0</td>\n",
       "      <td>1</td>\n",
       "    </tr>\n",
       "    <tr>\n",
       "      <th>2</th>\n",
       "      <td>1</td>\n",
       "      <td>9</td>\n",
       "      <td>301</td>\n",
       "      <td>26</td>\n",
       "      <td>10</td>\n",
       "      <td>13</td>\n",
       "      <td>2</td>\n",
       "      <td>0</td>\n",
       "      <td>0</td>\n",
       "      <td>7</td>\n",
       "      <td>2</td>\n",
       "      <td>9</td>\n",
       "      <td>1</td>\n",
       "      <td>2</td>\n",
       "      <td>7</td>\n",
       "      <td>1</td>\n",
       "      <td>0</td>\n",
       "      <td>1</td>\n",
       "      <td>1</td>\n",
       "      <td>1</td>\n",
       "    </tr>\n",
       "    <tr>\n",
       "      <th>3</th>\n",
       "      <td>3</td>\n",
       "      <td>9</td>\n",
       "      <td>27</td>\n",
       "      <td>274</td>\n",
       "      <td>22</td>\n",
       "      <td>3</td>\n",
       "      <td>12</td>\n",
       "      <td>3</td>\n",
       "      <td>4</td>\n",
       "      <td>1</td>\n",
       "      <td>1</td>\n",
       "      <td>4</td>\n",
       "      <td>19</td>\n",
       "      <td>2</td>\n",
       "      <td>4</td>\n",
       "      <td>0</td>\n",
       "      <td>1</td>\n",
       "      <td>2</td>\n",
       "      <td>1</td>\n",
       "      <td>0</td>\n",
       "    </tr>\n",
       "    <tr>\n",
       "      <th>4</th>\n",
       "      <td>0</td>\n",
       "      <td>5</td>\n",
       "      <td>8</td>\n",
       "      <td>26</td>\n",
       "      <td>313</td>\n",
       "      <td>2</td>\n",
       "      <td>9</td>\n",
       "      <td>0</td>\n",
       "      <td>1</td>\n",
       "      <td>4</td>\n",
       "      <td>1</td>\n",
       "      <td>3</td>\n",
       "      <td>6</td>\n",
       "      <td>1</td>\n",
       "      <td>1</td>\n",
       "      <td>0</td>\n",
       "      <td>2</td>\n",
       "      <td>1</td>\n",
       "      <td>2</td>\n",
       "      <td>0</td>\n",
       "    </tr>\n",
       "    <tr>\n",
       "      <th>5</th>\n",
       "      <td>1</td>\n",
       "      <td>29</td>\n",
       "      <td>39</td>\n",
       "      <td>1</td>\n",
       "      <td>2</td>\n",
       "      <td>304</td>\n",
       "      <td>2</td>\n",
       "      <td>0</td>\n",
       "      <td>1</td>\n",
       "      <td>1</td>\n",
       "      <td>1</td>\n",
       "      <td>3</td>\n",
       "      <td>1</td>\n",
       "      <td>1</td>\n",
       "      <td>7</td>\n",
       "      <td>1</td>\n",
       "      <td>1</td>\n",
       "      <td>0</td>\n",
       "      <td>0</td>\n",
       "      <td>0</td>\n",
       "    </tr>\n",
       "    <tr>\n",
       "      <th>6</th>\n",
       "      <td>0</td>\n",
       "      <td>2</td>\n",
       "      <td>0</td>\n",
       "      <td>14</td>\n",
       "      <td>4</td>\n",
       "      <td>0</td>\n",
       "      <td>352</td>\n",
       "      <td>6</td>\n",
       "      <td>1</td>\n",
       "      <td>1</td>\n",
       "      <td>2</td>\n",
       "      <td>1</td>\n",
       "      <td>2</td>\n",
       "      <td>2</td>\n",
       "      <td>2</td>\n",
       "      <td>0</td>\n",
       "      <td>1</td>\n",
       "      <td>0</td>\n",
       "      <td>0</td>\n",
       "      <td>0</td>\n",
       "    </tr>\n",
       "    <tr>\n",
       "      <th>7</th>\n",
       "      <td>1</td>\n",
       "      <td>1</td>\n",
       "      <td>0</td>\n",
       "      <td>2</td>\n",
       "      <td>1</td>\n",
       "      <td>0</td>\n",
       "      <td>10</td>\n",
       "      <td>354</td>\n",
       "      <td>8</td>\n",
       "      <td>2</td>\n",
       "      <td>0</td>\n",
       "      <td>0</td>\n",
       "      <td>10</td>\n",
       "      <td>0</td>\n",
       "      <td>3</td>\n",
       "      <td>0</td>\n",
       "      <td>3</td>\n",
       "      <td>0</td>\n",
       "      <td>1</td>\n",
       "      <td>0</td>\n",
       "    </tr>\n",
       "    <tr>\n",
       "      <th>8</th>\n",
       "      <td>0</td>\n",
       "      <td>0</td>\n",
       "      <td>0</td>\n",
       "      <td>1</td>\n",
       "      <td>0</td>\n",
       "      <td>0</td>\n",
       "      <td>4</td>\n",
       "      <td>6</td>\n",
       "      <td>384</td>\n",
       "      <td>2</td>\n",
       "      <td>0</td>\n",
       "      <td>0</td>\n",
       "      <td>0</td>\n",
       "      <td>1</td>\n",
       "      <td>0</td>\n",
       "      <td>0</td>\n",
       "      <td>0</td>\n",
       "      <td>0</td>\n",
       "      <td>0</td>\n",
       "      <td>0</td>\n",
       "    </tr>\n",
       "    <tr>\n",
       "      <th>9</th>\n",
       "      <td>0</td>\n",
       "      <td>0</td>\n",
       "      <td>0</td>\n",
       "      <td>0</td>\n",
       "      <td>2</td>\n",
       "      <td>0</td>\n",
       "      <td>4</td>\n",
       "      <td>0</td>\n",
       "      <td>0</td>\n",
       "      <td>358</td>\n",
       "      <td>31</td>\n",
       "      <td>0</td>\n",
       "      <td>0</td>\n",
       "      <td>0</td>\n",
       "      <td>0</td>\n",
       "      <td>0</td>\n",
       "      <td>1</td>\n",
       "      <td>1</td>\n",
       "      <td>0</td>\n",
       "      <td>0</td>\n",
       "    </tr>\n",
       "    <tr>\n",
       "      <th>10</th>\n",
       "      <td>0</td>\n",
       "      <td>0</td>\n",
       "      <td>0</td>\n",
       "      <td>1</td>\n",
       "      <td>1</td>\n",
       "      <td>0</td>\n",
       "      <td>0</td>\n",
       "      <td>0</td>\n",
       "      <td>0</td>\n",
       "      <td>1</td>\n",
       "      <td>395</td>\n",
       "      <td>0</td>\n",
       "      <td>0</td>\n",
       "      <td>0</td>\n",
       "      <td>0</td>\n",
       "      <td>1</td>\n",
       "      <td>0</td>\n",
       "      <td>0</td>\n",
       "      <td>0</td>\n",
       "      <td>0</td>\n",
       "    </tr>\n",
       "    <tr>\n",
       "      <th>11</th>\n",
       "      <td>0</td>\n",
       "      <td>1</td>\n",
       "      <td>2</td>\n",
       "      <td>0</td>\n",
       "      <td>1</td>\n",
       "      <td>1</td>\n",
       "      <td>1</td>\n",
       "      <td>3</td>\n",
       "      <td>0</td>\n",
       "      <td>2</td>\n",
       "      <td>0</td>\n",
       "      <td>381</td>\n",
       "      <td>0</td>\n",
       "      <td>1</td>\n",
       "      <td>0</td>\n",
       "      <td>0</td>\n",
       "      <td>2</td>\n",
       "      <td>0</td>\n",
       "      <td>1</td>\n",
       "      <td>0</td>\n",
       "    </tr>\n",
       "    <tr>\n",
       "      <th>12</th>\n",
       "      <td>8</td>\n",
       "      <td>5</td>\n",
       "      <td>9</td>\n",
       "      <td>25</td>\n",
       "      <td>11</td>\n",
       "      <td>7</td>\n",
       "      <td>8</td>\n",
       "      <td>8</td>\n",
       "      <td>8</td>\n",
       "      <td>6</td>\n",
       "      <td>2</td>\n",
       "      <td>31</td>\n",
       "      <td>235</td>\n",
       "      <td>10</td>\n",
       "      <td>13</td>\n",
       "      <td>5</td>\n",
       "      <td>1</td>\n",
       "      <td>1</td>\n",
       "      <td>0</td>\n",
       "      <td>0</td>\n",
       "    </tr>\n",
       "    <tr>\n",
       "      <th>13</th>\n",
       "      <td>4</td>\n",
       "      <td>3</td>\n",
       "      <td>1</td>\n",
       "      <td>2</td>\n",
       "      <td>2</td>\n",
       "      <td>4</td>\n",
       "      <td>5</td>\n",
       "      <td>0</td>\n",
       "      <td>1</td>\n",
       "      <td>5</td>\n",
       "      <td>3</td>\n",
       "      <td>2</td>\n",
       "      <td>2</td>\n",
       "      <td>340</td>\n",
       "      <td>3</td>\n",
       "      <td>7</td>\n",
       "      <td>2</td>\n",
       "      <td>5</td>\n",
       "      <td>4</td>\n",
       "      <td>1</td>\n",
       "    </tr>\n",
       "    <tr>\n",
       "      <th>14</th>\n",
       "      <td>0</td>\n",
       "      <td>3</td>\n",
       "      <td>0</td>\n",
       "      <td>0</td>\n",
       "      <td>1</td>\n",
       "      <td>0</td>\n",
       "      <td>1</td>\n",
       "      <td>0</td>\n",
       "      <td>0</td>\n",
       "      <td>0</td>\n",
       "      <td>1</td>\n",
       "      <td>1</td>\n",
       "      <td>0</td>\n",
       "      <td>5</td>\n",
       "      <td>378</td>\n",
       "      <td>2</td>\n",
       "      <td>0</td>\n",
       "      <td>0</td>\n",
       "      <td>2</td>\n",
       "      <td>0</td>\n",
       "    </tr>\n",
       "    <tr>\n",
       "      <th>15</th>\n",
       "      <td>8</td>\n",
       "      <td>0</td>\n",
       "      <td>2</td>\n",
       "      <td>1</td>\n",
       "      <td>0</td>\n",
       "      <td>0</td>\n",
       "      <td>0</td>\n",
       "      <td>0</td>\n",
       "      <td>1</td>\n",
       "      <td>0</td>\n",
       "      <td>0</td>\n",
       "      <td>0</td>\n",
       "      <td>1</td>\n",
       "      <td>2</td>\n",
       "      <td>3</td>\n",
       "      <td>376</td>\n",
       "      <td>0</td>\n",
       "      <td>0</td>\n",
       "      <td>0</td>\n",
       "      <td>4</td>\n",
       "    </tr>\n",
       "    <tr>\n",
       "      <th>16</th>\n",
       "      <td>0</td>\n",
       "      <td>0</td>\n",
       "      <td>0</td>\n",
       "      <td>1</td>\n",
       "      <td>1</td>\n",
       "      <td>0</td>\n",
       "      <td>2</td>\n",
       "      <td>2</td>\n",
       "      <td>1</td>\n",
       "      <td>3</td>\n",
       "      <td>0</td>\n",
       "      <td>6</td>\n",
       "      <td>0</td>\n",
       "      <td>2</td>\n",
       "      <td>3</td>\n",
       "      <td>1</td>\n",
       "      <td>336</td>\n",
       "      <td>1</td>\n",
       "      <td>5</td>\n",
       "      <td>0</td>\n",
       "    </tr>\n",
       "    <tr>\n",
       "      <th>17</th>\n",
       "      <td>8</td>\n",
       "      <td>1</td>\n",
       "      <td>0</td>\n",
       "      <td>0</td>\n",
       "      <td>0</td>\n",
       "      <td>4</td>\n",
       "      <td>0</td>\n",
       "      <td>1</td>\n",
       "      <td>0</td>\n",
       "      <td>4</td>\n",
       "      <td>4</td>\n",
       "      <td>2</td>\n",
       "      <td>0</td>\n",
       "      <td>1</td>\n",
       "      <td>1</td>\n",
       "      <td>0</td>\n",
       "      <td>1</td>\n",
       "      <td>349</td>\n",
       "      <td>0</td>\n",
       "      <td>0</td>\n",
       "    </tr>\n",
       "    <tr>\n",
       "      <th>18</th>\n",
       "      <td>4</td>\n",
       "      <td>1</td>\n",
       "      <td>0</td>\n",
       "      <td>0</td>\n",
       "      <td>1</td>\n",
       "      <td>1</td>\n",
       "      <td>1</td>\n",
       "      <td>0</td>\n",
       "      <td>2</td>\n",
       "      <td>0</td>\n",
       "      <td>2</td>\n",
       "      <td>4</td>\n",
       "      <td>0</td>\n",
       "      <td>4</td>\n",
       "      <td>6</td>\n",
       "      <td>3</td>\n",
       "      <td>101</td>\n",
       "      <td>7</td>\n",
       "      <td>172</td>\n",
       "      <td>1</td>\n",
       "    </tr>\n",
       "    <tr>\n",
       "      <th>19</th>\n",
       "      <td>45</td>\n",
       "      <td>1</td>\n",
       "      <td>1</td>\n",
       "      <td>0</td>\n",
       "      <td>0</td>\n",
       "      <td>0</td>\n",
       "      <td>2</td>\n",
       "      <td>2</td>\n",
       "      <td>0</td>\n",
       "      <td>0</td>\n",
       "      <td>1</td>\n",
       "      <td>0</td>\n",
       "      <td>0</td>\n",
       "      <td>5</td>\n",
       "      <td>6</td>\n",
       "      <td>55</td>\n",
       "      <td>22</td>\n",
       "      <td>6</td>\n",
       "      <td>4</td>\n",
       "      <td>101</td>\n",
       "    </tr>\n",
       "  </tbody>\n",
       "</table>\n",
       "</div>"
      ],
      "text/plain": [
       "     0    1    2    3    4    5    6    7    8    9    10   11   12   13   14  \\\n",
       "0   230    0    0    1    0    2    1    0    1    3    0    2    1   11    5   \n",
       "1     3  272   21   11    7   25    4    1    3    4    3    9    4    3    9   \n",
       "2     1    9  301   26   10   13    2    0    0    7    2    9    1    2    7   \n",
       "3     3    9   27  274   22    3   12    3    4    1    1    4   19    2    4   \n",
       "4     0    5    8   26  313    2    9    0    1    4    1    3    6    1    1   \n",
       "5     1   29   39    1    2  304    2    0    1    1    1    3    1    1    7   \n",
       "6     0    2    0   14    4    0  352    6    1    1    2    1    2    2    2   \n",
       "7     1    1    0    2    1    0   10  354    8    2    0    0   10    0    3   \n",
       "8     0    0    0    1    0    0    4    6  384    2    0    0    0    1    0   \n",
       "9     0    0    0    0    2    0    4    0    0  358   31    0    0    0    0   \n",
       "10    0    0    0    1    1    0    0    0    0    1  395    0    0    0    0   \n",
       "11    0    1    2    0    1    1    1    3    0    2    0  381    0    1    0   \n",
       "12    8    5    9   25   11    7    8    8    8    6    2   31  235   10   13   \n",
       "13    4    3    1    2    2    4    5    0    1    5    3    2    2  340    3   \n",
       "14    0    3    0    0    1    0    1    0    0    0    1    1    0    5  378   \n",
       "15    8    0    2    1    0    0    0    0    1    0    0    0    1    2    3   \n",
       "16    0    0    0    1    1    0    2    2    1    3    0    6    0    2    3   \n",
       "17    8    1    0    0    0    4    0    1    0    4    4    2    0    1    1   \n",
       "18    4    1    0    0    1    1    1    0    2    0    2    4    0    4    6   \n",
       "19   45    1    1    0    0    0    2    2    0    0    1    0    0    5    6   \n",
       "\n",
       "     15   16   17   18   19  \n",
       "0    41    2    8    1   10  \n",
       "1     3    2    4    0    1  \n",
       "2     1    0    1    1    1  \n",
       "3     0    1    2    1    0  \n",
       "4     0    2    1    2    0  \n",
       "5     1    1    0    0    0  \n",
       "6     0    1    0    0    0  \n",
       "7     0    3    0    1    0  \n",
       "8     0    0    0    0    0  \n",
       "9     0    1    1    0    0  \n",
       "10    1    0    0    0    0  \n",
       "11    0    2    0    1    0  \n",
       "12    5    1    1    0    0  \n",
       "13    7    2    5    4    1  \n",
       "14    2    0    0    2    0  \n",
       "15  376    0    0    0    4  \n",
       "16    1  336    1    5    0  \n",
       "17    0    1  349    0    0  \n",
       "18    3  101    7  172    1  \n",
       "19   55   22    6    4  101  "
      ]
     },
     "execution_count": 26,
     "metadata": {},
     "output_type": "execute_result"
    }
   ],
   "source": [
    "df = pd.DataFrame(metrics.confusion_matrix(twenty_test.target, predicted))\n",
    "df"
   ]
  },
  {
   "cell_type": "markdown",
   "metadata": {},
   "source": [
    "# Function to Test a Pipeline"
   ]
  },
  {
   "cell_type": "code",
   "execution_count": 27,
   "metadata": {},
   "outputs": [
    {
     "name": "stdout",
     "output_type": "stream",
     "text": [
      "F1 = 0.811 \n",
      "Accuracy = 0.824\n",
      "time = 8.022 sec.\n"
     ]
    },
    {
     "data": {
      "text/html": [
       "<h3>Classification Report</h3>"
      ],
      "text/plain": [
       "<IPython.core.display.HTML object>"
      ]
     },
     "metadata": {},
     "output_type": "display_data"
    },
    {
     "name": "stdout",
     "output_type": "stream",
     "text": [
      "                          precision    recall  f1-score   support\n",
      "\n",
      "             alt.atheism      0.728     0.721     0.724       319\n",
      "           comp.graphics      0.795     0.699     0.744       389\n",
      " comp.os.ms-windows.misc      0.732     0.764     0.748       394\n",
      "comp.sys.ibm.pc.hardware      0.710     0.699     0.704       392\n",
      "   comp.sys.mac.hardware      0.826     0.813     0.819       385\n",
      "          comp.windows.x      0.831     0.770     0.799       395\n",
      "            misc.forsale      0.838     0.903     0.869       390\n",
      "               rec.autos      0.917     0.894     0.905       396\n",
      "         rec.motorcycles      0.923     0.965     0.943       398\n",
      "      rec.sport.baseball      0.886     0.902     0.894       397\n",
      "        rec.sport.hockey      0.880     0.990     0.932       399\n",
      "               sci.crypt      0.832     0.962     0.892       396\n",
      "         sci.electronics      0.833     0.598     0.696       393\n",
      "                 sci.med      0.865     0.859     0.862       396\n",
      "               sci.space      0.838     0.959     0.895       394\n",
      "  soc.religion.christian      0.758     0.945     0.841       398\n",
      "      talk.politics.guns      0.703     0.923     0.798       364\n",
      "   talk.politics.mideast      0.904     0.928     0.916       376\n",
      "      talk.politics.misc      0.887     0.555     0.683       310\n",
      "      talk.religion.misc      0.849     0.402     0.546       251\n",
      "\n",
      "             avg / total      0.827     0.824     0.818      7532\n",
      "\n"
     ]
    },
    {
     "data": {
      "text/html": [
       "<h3>Confusion Matrix (row=expected, col=predicted)</h3>"
      ],
      "text/plain": [
       "<IPython.core.display.HTML object>"
      ]
     },
     "metadata": {},
     "output_type": "display_data"
    },
    {
     "data": {
      "text/html": [
       "<div>\n",
       "<style>\n",
       "    .dataframe thead tr:only-child th {\n",
       "        text-align: right;\n",
       "    }\n",
       "\n",
       "    .dataframe thead th {\n",
       "        text-align: left;\n",
       "    }\n",
       "\n",
       "    .dataframe tbody tr th {\n",
       "        vertical-align: top;\n",
       "    }\n",
       "</style>\n",
       "<table border=\"1\" class=\"dataframe\">\n",
       "  <thead>\n",
       "    <tr style=\"text-align: right;\">\n",
       "      <th></th>\n",
       "      <th>alt.atheism</th>\n",
       "      <th>comp.graphics</th>\n",
       "      <th>comp.os.ms-windows.misc</th>\n",
       "      <th>comp.sys.ibm.pc.hardware</th>\n",
       "      <th>comp.sys.mac.hardware</th>\n",
       "      <th>comp.windows.x</th>\n",
       "      <th>misc.forsale</th>\n",
       "      <th>rec.autos</th>\n",
       "      <th>rec.motorcycles</th>\n",
       "      <th>rec.sport.baseball</th>\n",
       "      <th>rec.sport.hockey</th>\n",
       "      <th>sci.crypt</th>\n",
       "      <th>sci.electronics</th>\n",
       "      <th>sci.med</th>\n",
       "      <th>sci.space</th>\n",
       "      <th>soc.religion.christian</th>\n",
       "      <th>talk.politics.guns</th>\n",
       "      <th>talk.politics.mideast</th>\n",
       "      <th>talk.politics.misc</th>\n",
       "      <th>talk.religion.misc</th>\n",
       "    </tr>\n",
       "    <tr>\n",
       "      <th>Expected</th>\n",
       "      <th></th>\n",
       "      <th></th>\n",
       "      <th></th>\n",
       "      <th></th>\n",
       "      <th></th>\n",
       "      <th></th>\n",
       "      <th></th>\n",
       "      <th></th>\n",
       "      <th></th>\n",
       "      <th></th>\n",
       "      <th></th>\n",
       "      <th></th>\n",
       "      <th></th>\n",
       "      <th></th>\n",
       "      <th></th>\n",
       "      <th></th>\n",
       "      <th></th>\n",
       "      <th></th>\n",
       "      <th></th>\n",
       "      <th></th>\n",
       "    </tr>\n",
       "  </thead>\n",
       "  <tbody>\n",
       "    <tr>\n",
       "      <th>alt.atheism</th>\n",
       "      <td>230</td>\n",
       "      <td>0</td>\n",
       "      <td>0</td>\n",
       "      <td>1</td>\n",
       "      <td>0</td>\n",
       "      <td>2</td>\n",
       "      <td>1</td>\n",
       "      <td>0</td>\n",
       "      <td>1</td>\n",
       "      <td>3</td>\n",
       "      <td>0</td>\n",
       "      <td>2</td>\n",
       "      <td>1</td>\n",
       "      <td>11</td>\n",
       "      <td>5</td>\n",
       "      <td>41</td>\n",
       "      <td>2</td>\n",
       "      <td>8</td>\n",
       "      <td>1</td>\n",
       "      <td>10</td>\n",
       "    </tr>\n",
       "    <tr>\n",
       "      <th>comp.graphics</th>\n",
       "      <td>3</td>\n",
       "      <td>272</td>\n",
       "      <td>21</td>\n",
       "      <td>11</td>\n",
       "      <td>7</td>\n",
       "      <td>25</td>\n",
       "      <td>4</td>\n",
       "      <td>1</td>\n",
       "      <td>3</td>\n",
       "      <td>4</td>\n",
       "      <td>3</td>\n",
       "      <td>9</td>\n",
       "      <td>4</td>\n",
       "      <td>3</td>\n",
       "      <td>9</td>\n",
       "      <td>3</td>\n",
       "      <td>2</td>\n",
       "      <td>4</td>\n",
       "      <td>0</td>\n",
       "      <td>1</td>\n",
       "    </tr>\n",
       "    <tr>\n",
       "      <th>comp.os.ms-windows.misc</th>\n",
       "      <td>1</td>\n",
       "      <td>9</td>\n",
       "      <td>301</td>\n",
       "      <td>26</td>\n",
       "      <td>10</td>\n",
       "      <td>13</td>\n",
       "      <td>2</td>\n",
       "      <td>0</td>\n",
       "      <td>0</td>\n",
       "      <td>7</td>\n",
       "      <td>2</td>\n",
       "      <td>9</td>\n",
       "      <td>1</td>\n",
       "      <td>2</td>\n",
       "      <td>7</td>\n",
       "      <td>1</td>\n",
       "      <td>0</td>\n",
       "      <td>1</td>\n",
       "      <td>1</td>\n",
       "      <td>1</td>\n",
       "    </tr>\n",
       "    <tr>\n",
       "      <th>comp.sys.ibm.pc.hardware</th>\n",
       "      <td>3</td>\n",
       "      <td>9</td>\n",
       "      <td>27</td>\n",
       "      <td>274</td>\n",
       "      <td>22</td>\n",
       "      <td>3</td>\n",
       "      <td>12</td>\n",
       "      <td>3</td>\n",
       "      <td>4</td>\n",
       "      <td>1</td>\n",
       "      <td>1</td>\n",
       "      <td>4</td>\n",
       "      <td>19</td>\n",
       "      <td>2</td>\n",
       "      <td>4</td>\n",
       "      <td>0</td>\n",
       "      <td>1</td>\n",
       "      <td>2</td>\n",
       "      <td>1</td>\n",
       "      <td>0</td>\n",
       "    </tr>\n",
       "    <tr>\n",
       "      <th>comp.sys.mac.hardware</th>\n",
       "      <td>0</td>\n",
       "      <td>5</td>\n",
       "      <td>8</td>\n",
       "      <td>26</td>\n",
       "      <td>313</td>\n",
       "      <td>2</td>\n",
       "      <td>9</td>\n",
       "      <td>0</td>\n",
       "      <td>1</td>\n",
       "      <td>4</td>\n",
       "      <td>1</td>\n",
       "      <td>3</td>\n",
       "      <td>6</td>\n",
       "      <td>1</td>\n",
       "      <td>1</td>\n",
       "      <td>0</td>\n",
       "      <td>2</td>\n",
       "      <td>1</td>\n",
       "      <td>2</td>\n",
       "      <td>0</td>\n",
       "    </tr>\n",
       "    <tr>\n",
       "      <th>comp.windows.x</th>\n",
       "      <td>1</td>\n",
       "      <td>29</td>\n",
       "      <td>39</td>\n",
       "      <td>1</td>\n",
       "      <td>2</td>\n",
       "      <td>304</td>\n",
       "      <td>2</td>\n",
       "      <td>0</td>\n",
       "      <td>1</td>\n",
       "      <td>1</td>\n",
       "      <td>1</td>\n",
       "      <td>3</td>\n",
       "      <td>1</td>\n",
       "      <td>1</td>\n",
       "      <td>7</td>\n",
       "      <td>1</td>\n",
       "      <td>1</td>\n",
       "      <td>0</td>\n",
       "      <td>0</td>\n",
       "      <td>0</td>\n",
       "    </tr>\n",
       "    <tr>\n",
       "      <th>misc.forsale</th>\n",
       "      <td>0</td>\n",
       "      <td>2</td>\n",
       "      <td>0</td>\n",
       "      <td>14</td>\n",
       "      <td>4</td>\n",
       "      <td>0</td>\n",
       "      <td>352</td>\n",
       "      <td>6</td>\n",
       "      <td>1</td>\n",
       "      <td>1</td>\n",
       "      <td>2</td>\n",
       "      <td>1</td>\n",
       "      <td>2</td>\n",
       "      <td>2</td>\n",
       "      <td>2</td>\n",
       "      <td>0</td>\n",
       "      <td>1</td>\n",
       "      <td>0</td>\n",
       "      <td>0</td>\n",
       "      <td>0</td>\n",
       "    </tr>\n",
       "    <tr>\n",
       "      <th>rec.autos</th>\n",
       "      <td>1</td>\n",
       "      <td>1</td>\n",
       "      <td>0</td>\n",
       "      <td>2</td>\n",
       "      <td>1</td>\n",
       "      <td>0</td>\n",
       "      <td>10</td>\n",
       "      <td>354</td>\n",
       "      <td>8</td>\n",
       "      <td>2</td>\n",
       "      <td>0</td>\n",
       "      <td>0</td>\n",
       "      <td>10</td>\n",
       "      <td>0</td>\n",
       "      <td>3</td>\n",
       "      <td>0</td>\n",
       "      <td>3</td>\n",
       "      <td>0</td>\n",
       "      <td>1</td>\n",
       "      <td>0</td>\n",
       "    </tr>\n",
       "    <tr>\n",
       "      <th>rec.motorcycles</th>\n",
       "      <td>0</td>\n",
       "      <td>0</td>\n",
       "      <td>0</td>\n",
       "      <td>1</td>\n",
       "      <td>0</td>\n",
       "      <td>0</td>\n",
       "      <td>4</td>\n",
       "      <td>6</td>\n",
       "      <td>384</td>\n",
       "      <td>2</td>\n",
       "      <td>0</td>\n",
       "      <td>0</td>\n",
       "      <td>0</td>\n",
       "      <td>1</td>\n",
       "      <td>0</td>\n",
       "      <td>0</td>\n",
       "      <td>0</td>\n",
       "      <td>0</td>\n",
       "      <td>0</td>\n",
       "      <td>0</td>\n",
       "    </tr>\n",
       "    <tr>\n",
       "      <th>rec.sport.baseball</th>\n",
       "      <td>0</td>\n",
       "      <td>0</td>\n",
       "      <td>0</td>\n",
       "      <td>0</td>\n",
       "      <td>2</td>\n",
       "      <td>0</td>\n",
       "      <td>4</td>\n",
       "      <td>0</td>\n",
       "      <td>0</td>\n",
       "      <td>358</td>\n",
       "      <td>31</td>\n",
       "      <td>0</td>\n",
       "      <td>0</td>\n",
       "      <td>0</td>\n",
       "      <td>0</td>\n",
       "      <td>0</td>\n",
       "      <td>1</td>\n",
       "      <td>1</td>\n",
       "      <td>0</td>\n",
       "      <td>0</td>\n",
       "    </tr>\n",
       "    <tr>\n",
       "      <th>rec.sport.hockey</th>\n",
       "      <td>0</td>\n",
       "      <td>0</td>\n",
       "      <td>0</td>\n",
       "      <td>1</td>\n",
       "      <td>1</td>\n",
       "      <td>0</td>\n",
       "      <td>0</td>\n",
       "      <td>0</td>\n",
       "      <td>0</td>\n",
       "      <td>1</td>\n",
       "      <td>395</td>\n",
       "      <td>0</td>\n",
       "      <td>0</td>\n",
       "      <td>0</td>\n",
       "      <td>0</td>\n",
       "      <td>1</td>\n",
       "      <td>0</td>\n",
       "      <td>0</td>\n",
       "      <td>0</td>\n",
       "      <td>0</td>\n",
       "    </tr>\n",
       "    <tr>\n",
       "      <th>sci.crypt</th>\n",
       "      <td>0</td>\n",
       "      <td>1</td>\n",
       "      <td>2</td>\n",
       "      <td>0</td>\n",
       "      <td>1</td>\n",
       "      <td>1</td>\n",
       "      <td>1</td>\n",
       "      <td>3</td>\n",
       "      <td>0</td>\n",
       "      <td>2</td>\n",
       "      <td>0</td>\n",
       "      <td>381</td>\n",
       "      <td>0</td>\n",
       "      <td>1</td>\n",
       "      <td>0</td>\n",
       "      <td>0</td>\n",
       "      <td>2</td>\n",
       "      <td>0</td>\n",
       "      <td>1</td>\n",
       "      <td>0</td>\n",
       "    </tr>\n",
       "    <tr>\n",
       "      <th>sci.electronics</th>\n",
       "      <td>8</td>\n",
       "      <td>5</td>\n",
       "      <td>9</td>\n",
       "      <td>25</td>\n",
       "      <td>11</td>\n",
       "      <td>7</td>\n",
       "      <td>8</td>\n",
       "      <td>8</td>\n",
       "      <td>8</td>\n",
       "      <td>6</td>\n",
       "      <td>2</td>\n",
       "      <td>31</td>\n",
       "      <td>235</td>\n",
       "      <td>10</td>\n",
       "      <td>13</td>\n",
       "      <td>5</td>\n",
       "      <td>1</td>\n",
       "      <td>1</td>\n",
       "      <td>0</td>\n",
       "      <td>0</td>\n",
       "    </tr>\n",
       "    <tr>\n",
       "      <th>sci.med</th>\n",
       "      <td>4</td>\n",
       "      <td>3</td>\n",
       "      <td>1</td>\n",
       "      <td>2</td>\n",
       "      <td>2</td>\n",
       "      <td>4</td>\n",
       "      <td>5</td>\n",
       "      <td>0</td>\n",
       "      <td>1</td>\n",
       "      <td>5</td>\n",
       "      <td>3</td>\n",
       "      <td>2</td>\n",
       "      <td>2</td>\n",
       "      <td>340</td>\n",
       "      <td>3</td>\n",
       "      <td>7</td>\n",
       "      <td>2</td>\n",
       "      <td>5</td>\n",
       "      <td>4</td>\n",
       "      <td>1</td>\n",
       "    </tr>\n",
       "    <tr>\n",
       "      <th>sci.space</th>\n",
       "      <td>0</td>\n",
       "      <td>3</td>\n",
       "      <td>0</td>\n",
       "      <td>0</td>\n",
       "      <td>1</td>\n",
       "      <td>0</td>\n",
       "      <td>1</td>\n",
       "      <td>0</td>\n",
       "      <td>0</td>\n",
       "      <td>0</td>\n",
       "      <td>1</td>\n",
       "      <td>1</td>\n",
       "      <td>0</td>\n",
       "      <td>5</td>\n",
       "      <td>378</td>\n",
       "      <td>2</td>\n",
       "      <td>0</td>\n",
       "      <td>0</td>\n",
       "      <td>2</td>\n",
       "      <td>0</td>\n",
       "    </tr>\n",
       "    <tr>\n",
       "      <th>soc.religion.christian</th>\n",
       "      <td>8</td>\n",
       "      <td>0</td>\n",
       "      <td>2</td>\n",
       "      <td>1</td>\n",
       "      <td>0</td>\n",
       "      <td>0</td>\n",
       "      <td>0</td>\n",
       "      <td>0</td>\n",
       "      <td>1</td>\n",
       "      <td>0</td>\n",
       "      <td>0</td>\n",
       "      <td>0</td>\n",
       "      <td>1</td>\n",
       "      <td>2</td>\n",
       "      <td>3</td>\n",
       "      <td>376</td>\n",
       "      <td>0</td>\n",
       "      <td>0</td>\n",
       "      <td>0</td>\n",
       "      <td>4</td>\n",
       "    </tr>\n",
       "    <tr>\n",
       "      <th>talk.politics.guns</th>\n",
       "      <td>0</td>\n",
       "      <td>0</td>\n",
       "      <td>0</td>\n",
       "      <td>1</td>\n",
       "      <td>1</td>\n",
       "      <td>0</td>\n",
       "      <td>2</td>\n",
       "      <td>2</td>\n",
       "      <td>1</td>\n",
       "      <td>3</td>\n",
       "      <td>0</td>\n",
       "      <td>6</td>\n",
       "      <td>0</td>\n",
       "      <td>2</td>\n",
       "      <td>3</td>\n",
       "      <td>1</td>\n",
       "      <td>336</td>\n",
       "      <td>1</td>\n",
       "      <td>5</td>\n",
       "      <td>0</td>\n",
       "    </tr>\n",
       "    <tr>\n",
       "      <th>talk.politics.mideast</th>\n",
       "      <td>8</td>\n",
       "      <td>1</td>\n",
       "      <td>0</td>\n",
       "      <td>0</td>\n",
       "      <td>0</td>\n",
       "      <td>4</td>\n",
       "      <td>0</td>\n",
       "      <td>1</td>\n",
       "      <td>0</td>\n",
       "      <td>4</td>\n",
       "      <td>4</td>\n",
       "      <td>2</td>\n",
       "      <td>0</td>\n",
       "      <td>1</td>\n",
       "      <td>1</td>\n",
       "      <td>0</td>\n",
       "      <td>1</td>\n",
       "      <td>349</td>\n",
       "      <td>0</td>\n",
       "      <td>0</td>\n",
       "    </tr>\n",
       "    <tr>\n",
       "      <th>talk.politics.misc</th>\n",
       "      <td>4</td>\n",
       "      <td>1</td>\n",
       "      <td>0</td>\n",
       "      <td>0</td>\n",
       "      <td>1</td>\n",
       "      <td>1</td>\n",
       "      <td>1</td>\n",
       "      <td>0</td>\n",
       "      <td>2</td>\n",
       "      <td>0</td>\n",
       "      <td>2</td>\n",
       "      <td>4</td>\n",
       "      <td>0</td>\n",
       "      <td>4</td>\n",
       "      <td>6</td>\n",
       "      <td>3</td>\n",
       "      <td>101</td>\n",
       "      <td>7</td>\n",
       "      <td>172</td>\n",
       "      <td>1</td>\n",
       "    </tr>\n",
       "    <tr>\n",
       "      <th>talk.religion.misc</th>\n",
       "      <td>45</td>\n",
       "      <td>1</td>\n",
       "      <td>1</td>\n",
       "      <td>0</td>\n",
       "      <td>0</td>\n",
       "      <td>0</td>\n",
       "      <td>2</td>\n",
       "      <td>2</td>\n",
       "      <td>0</td>\n",
       "      <td>0</td>\n",
       "      <td>1</td>\n",
       "      <td>0</td>\n",
       "      <td>0</td>\n",
       "      <td>5</td>\n",
       "      <td>6</td>\n",
       "      <td>55</td>\n",
       "      <td>22</td>\n",
       "      <td>6</td>\n",
       "      <td>4</td>\n",
       "      <td>101</td>\n",
       "    </tr>\n",
       "  </tbody>\n",
       "</table>\n",
       "</div>"
      ],
      "text/plain": [
       "                          alt.atheism  comp.graphics  comp.os.ms-windows.misc  \\\n",
       "Expected                                                                        \n",
       "alt.atheism                       230              0                        0   \n",
       "comp.graphics                       3            272                       21   \n",
       "comp.os.ms-windows.misc             1              9                      301   \n",
       "comp.sys.ibm.pc.hardware            3              9                       27   \n",
       "comp.sys.mac.hardware               0              5                        8   \n",
       "comp.windows.x                      1             29                       39   \n",
       "misc.forsale                        0              2                        0   \n",
       "rec.autos                           1              1                        0   \n",
       "rec.motorcycles                     0              0                        0   \n",
       "rec.sport.baseball                  0              0                        0   \n",
       "rec.sport.hockey                    0              0                        0   \n",
       "sci.crypt                           0              1                        2   \n",
       "sci.electronics                     8              5                        9   \n",
       "sci.med                             4              3                        1   \n",
       "sci.space                           0              3                        0   \n",
       "soc.religion.christian              8              0                        2   \n",
       "talk.politics.guns                  0              0                        0   \n",
       "talk.politics.mideast               8              1                        0   \n",
       "talk.politics.misc                  4              1                        0   \n",
       "talk.religion.misc                 45              1                        1   \n",
       "\n",
       "                          comp.sys.ibm.pc.hardware  comp.sys.mac.hardware  \\\n",
       "Expected                                                                    \n",
       "alt.atheism                                      1                      0   \n",
       "comp.graphics                                   11                      7   \n",
       "comp.os.ms-windows.misc                         26                     10   \n",
       "comp.sys.ibm.pc.hardware                       274                     22   \n",
       "comp.sys.mac.hardware                           26                    313   \n",
       "comp.windows.x                                   1                      2   \n",
       "misc.forsale                                    14                      4   \n",
       "rec.autos                                        2                      1   \n",
       "rec.motorcycles                                  1                      0   \n",
       "rec.sport.baseball                               0                      2   \n",
       "rec.sport.hockey                                 1                      1   \n",
       "sci.crypt                                        0                      1   \n",
       "sci.electronics                                 25                     11   \n",
       "sci.med                                          2                      2   \n",
       "sci.space                                        0                      1   \n",
       "soc.religion.christian                           1                      0   \n",
       "talk.politics.guns                               1                      1   \n",
       "talk.politics.mideast                            0                      0   \n",
       "talk.politics.misc                               0                      1   \n",
       "talk.religion.misc                               0                      0   \n",
       "\n",
       "                          comp.windows.x  misc.forsale  rec.autos  \\\n",
       "Expected                                                            \n",
       "alt.atheism                            2             1          0   \n",
       "comp.graphics                         25             4          1   \n",
       "comp.os.ms-windows.misc               13             2          0   \n",
       "comp.sys.ibm.pc.hardware               3            12          3   \n",
       "comp.sys.mac.hardware                  2             9          0   \n",
       "comp.windows.x                       304             2          0   \n",
       "misc.forsale                           0           352          6   \n",
       "rec.autos                              0            10        354   \n",
       "rec.motorcycles                        0             4          6   \n",
       "rec.sport.baseball                     0             4          0   \n",
       "rec.sport.hockey                       0             0          0   \n",
       "sci.crypt                              1             1          3   \n",
       "sci.electronics                        7             8          8   \n",
       "sci.med                                4             5          0   \n",
       "sci.space                              0             1          0   \n",
       "soc.religion.christian                 0             0          0   \n",
       "talk.politics.guns                     0             2          2   \n",
       "talk.politics.mideast                  4             0          1   \n",
       "talk.politics.misc                     1             1          0   \n",
       "talk.religion.misc                     0             2          2   \n",
       "\n",
       "                          rec.motorcycles  rec.sport.baseball  \\\n",
       "Expected                                                        \n",
       "alt.atheism                             1                   3   \n",
       "comp.graphics                           3                   4   \n",
       "comp.os.ms-windows.misc                 0                   7   \n",
       "comp.sys.ibm.pc.hardware                4                   1   \n",
       "comp.sys.mac.hardware                   1                   4   \n",
       "comp.windows.x                          1                   1   \n",
       "misc.forsale                            1                   1   \n",
       "rec.autos                               8                   2   \n",
       "rec.motorcycles                       384                   2   \n",
       "rec.sport.baseball                      0                 358   \n",
       "rec.sport.hockey                        0                   1   \n",
       "sci.crypt                               0                   2   \n",
       "sci.electronics                         8                   6   \n",
       "sci.med                                 1                   5   \n",
       "sci.space                               0                   0   \n",
       "soc.religion.christian                  1                   0   \n",
       "talk.politics.guns                      1                   3   \n",
       "talk.politics.mideast                   0                   4   \n",
       "talk.politics.misc                      2                   0   \n",
       "talk.religion.misc                      0                   0   \n",
       "\n",
       "                          rec.sport.hockey  sci.crypt  sci.electronics  \\\n",
       "Expected                                                                 \n",
       "alt.atheism                              0          2                1   \n",
       "comp.graphics                            3          9                4   \n",
       "comp.os.ms-windows.misc                  2          9                1   \n",
       "comp.sys.ibm.pc.hardware                 1          4               19   \n",
       "comp.sys.mac.hardware                    1          3                6   \n",
       "comp.windows.x                           1          3                1   \n",
       "misc.forsale                             2          1                2   \n",
       "rec.autos                                0          0               10   \n",
       "rec.motorcycles                          0          0                0   \n",
       "rec.sport.baseball                      31          0                0   \n",
       "rec.sport.hockey                       395          0                0   \n",
       "sci.crypt                                0        381                0   \n",
       "sci.electronics                          2         31              235   \n",
       "sci.med                                  3          2                2   \n",
       "sci.space                                1          1                0   \n",
       "soc.religion.christian                   0          0                1   \n",
       "talk.politics.guns                       0          6                0   \n",
       "talk.politics.mideast                    4          2                0   \n",
       "talk.politics.misc                       2          4                0   \n",
       "talk.religion.misc                       1          0                0   \n",
       "\n",
       "                          sci.med  sci.space  soc.religion.christian  \\\n",
       "Expected                                                               \n",
       "alt.atheism                    11          5                      41   \n",
       "comp.graphics                   3          9                       3   \n",
       "comp.os.ms-windows.misc         2          7                       1   \n",
       "comp.sys.ibm.pc.hardware        2          4                       0   \n",
       "comp.sys.mac.hardware           1          1                       0   \n",
       "comp.windows.x                  1          7                       1   \n",
       "misc.forsale                    2          2                       0   \n",
       "rec.autos                       0          3                       0   \n",
       "rec.motorcycles                 1          0                       0   \n",
       "rec.sport.baseball              0          0                       0   \n",
       "rec.sport.hockey                0          0                       1   \n",
       "sci.crypt                       1          0                       0   \n",
       "sci.electronics                10         13                       5   \n",
       "sci.med                       340          3                       7   \n",
       "sci.space                       5        378                       2   \n",
       "soc.religion.christian          2          3                     376   \n",
       "talk.politics.guns              2          3                       1   \n",
       "talk.politics.mideast           1          1                       0   \n",
       "talk.politics.misc              4          6                       3   \n",
       "talk.religion.misc              5          6                      55   \n",
       "\n",
       "                          talk.politics.guns  talk.politics.mideast  \\\n",
       "Expected                                                              \n",
       "alt.atheism                                2                      8   \n",
       "comp.graphics                              2                      4   \n",
       "comp.os.ms-windows.misc                    0                      1   \n",
       "comp.sys.ibm.pc.hardware                   1                      2   \n",
       "comp.sys.mac.hardware                      2                      1   \n",
       "comp.windows.x                             1                      0   \n",
       "misc.forsale                               1                      0   \n",
       "rec.autos                                  3                      0   \n",
       "rec.motorcycles                            0                      0   \n",
       "rec.sport.baseball                         1                      1   \n",
       "rec.sport.hockey                           0                      0   \n",
       "sci.crypt                                  2                      0   \n",
       "sci.electronics                            1                      1   \n",
       "sci.med                                    2                      5   \n",
       "sci.space                                  0                      0   \n",
       "soc.religion.christian                     0                      0   \n",
       "talk.politics.guns                       336                      1   \n",
       "talk.politics.mideast                      1                    349   \n",
       "talk.politics.misc                       101                      7   \n",
       "talk.religion.misc                        22                      6   \n",
       "\n",
       "                          talk.politics.misc  talk.religion.misc  \n",
       "Expected                                                          \n",
       "alt.atheism                                1                  10  \n",
       "comp.graphics                              0                   1  \n",
       "comp.os.ms-windows.misc                    1                   1  \n",
       "comp.sys.ibm.pc.hardware                   1                   0  \n",
       "comp.sys.mac.hardware                      2                   0  \n",
       "comp.windows.x                             0                   0  \n",
       "misc.forsale                               0                   0  \n",
       "rec.autos                                  1                   0  \n",
       "rec.motorcycles                            0                   0  \n",
       "rec.sport.baseball                         0                   0  \n",
       "rec.sport.hockey                           0                   0  \n",
       "sci.crypt                                  1                   0  \n",
       "sci.electronics                            0                   0  \n",
       "sci.med                                    4                   1  \n",
       "sci.space                                  2                   0  \n",
       "soc.religion.christian                     0                   4  \n",
       "talk.politics.guns                         5                   0  \n",
       "talk.politics.mideast                      0                   0  \n",
       "talk.politics.misc                       172                   1  \n",
       "talk.religion.misc                         4                 101  "
      ]
     },
     "metadata": {},
     "output_type": "display_data"
    }
   ],
   "source": [
    "def header(str):\n",
    "    display(HTML('<h3>'+str+'</h3>'))\n",
    "\n",
    "tests = {}\n",
    "\n",
    "def test_pipeline(pipeline, name=None, verbose=True):\n",
    "    start=time.time()\n",
    "    pipeline.fit(twenty_train.data, twenty_train.target)  \n",
    "    predicted = pipeline.predict(twenty_test.data)\n",
    "    elapsed_time = (time.time() - start)\n",
    "    accuracy = np.mean(predicted == twenty_test.target)\n",
    "    f1 = metrics.f1_score(twenty_test.target, predicted, average='macro') \n",
    "    print( 'F1 = %.3f \\nAccuracy = %.3f\\ntime = %.3f sec.' % (f1, accuracy, elapsed_time))\n",
    "    if(verbose):\n",
    "        header('Classification Report')\n",
    "        print(metrics.classification_report(twenty_test.target, predicted,\n",
    "                 target_names=twenty_test.target_names, digits=3))\n",
    "        header('Confusion Matrix (row=expected, col=predicted)')\n",
    "        df = pd.DataFrame(metrics.confusion_matrix(twenty_test.target, predicted))\n",
    "        df.columns = twenty_test.target_names\n",
    "        df['Expected']=twenty_test.target_names\n",
    "        df.set_index('Expected',inplace=True)\n",
    "        display(df)\n",
    "   \n",
    "    if name is not None:\n",
    "        tests[name]={'Name':name, 'Accuracy':accuracy, 'F1':f1, 'Time':elapsed_time, \n",
    "                     'Details':pipeline.get_params(deep=True)}\n",
    "    \n",
    "test_pipeline(text_clf)\n"
   ]
  },
  {
   "cell_type": "markdown",
   "metadata": {},
   "source": [
    "# TfidfVectorizer = CountVectorizer + TfidfTransformer"
   ]
  },
  {
   "cell_type": "code",
   "execution_count": 28,
   "metadata": {},
   "outputs": [
    {
     "name": "stdout",
     "output_type": "stream",
     "text": [
      "F1 = 0.846 \n",
      "Accuracy = 0.854\n",
      "time = 9.669 sec.\n"
     ]
    }
   ],
   "source": [
    "test_pipeline(Pipeline([('tfidf_v', TfidfVectorizer()),\n",
    "                      ('sgdc', SGDClassifier(loss='hinge', penalty='l2',\n",
    "                                            alpha=1e-4, random_state=42,\n",
    "                                            max_iter=40, tol=None)),\n",
    "                         ]), verbose=False)"
   ]
  },
  {
   "cell_type": "code",
   "execution_count": 29,
   "metadata": {},
   "outputs": [
    {
     "name": "stdout",
     "output_type": "stream",
     "text": [
      "F1 = 0.846 \n",
      "Accuracy = 0.854\n",
      "time = 8.573 sec.\n"
     ]
    }
   ],
   "source": [
    "test_pipeline(Pipeline([('cvect', CountVectorizer()),\n",
    "                      ('tfidf', TfidfTransformer()),\n",
    "                      ('sgdc', SGDClassifier(loss='hinge', penalty='l2',\n",
    "                                            alpha=1e-4, random_state=42,\n",
    "                                            max_iter=40, tol=None)),\n",
    "                         ]), verbose=False, name='hinge loss')"
   ]
  },
  {
   "cell_type": "markdown",
   "metadata": {},
   "source": [
    "# Hyper-parameter tests on [SGDClassifier]( http://scikit-learn.org/stable/modules/generated/sklearn.linear_model.SGDClassifier.html)"
   ]
  },
  {
   "cell_type": "code",
   "execution_count": 30,
   "metadata": {},
   "outputs": [
    {
     "name": "stdout",
     "output_type": "stream",
     "text": [
      "F1 = 0.846 \n",
      "Accuracy = 0.854\n",
      "time = 8.538 sec.\n"
     ]
    }
   ],
   "source": [
    "test_pipeline(Pipeline([('cvect', CountVectorizer()),\n",
    "                      ('tfidf', TfidfTransformer()),\n",
    "                      ('sgdc', SGDClassifier(loss='hinge', penalty='l2',\n",
    "                                            alpha=1e-4, random_state=42,\n",
    "                                            max_iter=40, tol=None)),\n",
    "                         ]), verbose=False, name='hinge loss')"
   ]
  },
  {
   "cell_type": "code",
   "execution_count": 31,
   "metadata": {},
   "outputs": [
    {
     "name": "stdout",
     "output_type": "stream",
     "text": [
      "F1 = 0.840 \n",
      "Accuracy = 0.847\n",
      "time = 5.877 sec.\n"
     ]
    }
   ],
   "source": [
    "test_pipeline(Pipeline([('cvect', CountVectorizer()),\n",
    "                      ('tfidf', TfidfTransformer()),\n",
    "                      ('sgdc', SGDClassifier(loss='log', penalty='l2',\n",
    "                                            alpha=1e-6, random_state=42,\n",
    "                                            max_iter=10, tol=None)),\n",
    "                         ]), verbose=False, name='log loss')"
   ]
  },
  {
   "cell_type": "code",
   "execution_count": 32,
   "metadata": {},
   "outputs": [
    {
     "name": "stdout",
     "output_type": "stream",
     "text": [
      "F1 = 0.819 \n",
      "Accuracy = 0.825\n",
      "time = 5.833 sec.\n"
     ]
    }
   ],
   "source": [
    "test_pipeline(Pipeline([('cvect', CountVectorizer()),\n",
    "                      ('tfidf', TfidfTransformer()),\n",
    "                      ('sgdc', SGDClassifier(loss='log', penalty='none',\n",
    "                                            alpha=1e-6, random_state=42,\n",
    "                                            max_iter=10, tol=None)),\n",
    "                         ]), verbose=False, name='log loss no regularization')"
   ]
  },
  {
   "cell_type": "markdown",
   "metadata": {},
   "source": [
    "# Tokenization Tests\n",
    "Docs: \n",
    "\n",
    "[CountVectorizer](http://scikit-learn.org/stable/modules/generated/sklearn.feature_extraction.text.CountVectorizer.html)  \n",
    "[TfidfTransformer](http://scikit-learn.org/stable/modules/generated/sklearn.feature_extraction.text.TfidfTransformer.html)"
   ]
  },
  {
   "cell_type": "code",
   "execution_count": 33,
   "metadata": {},
   "outputs": [
    {
     "name": "stdout",
     "output_type": "stream",
     "text": [
      "F1 = 0.804 \n",
      "Accuracy = 0.815\n",
      "time = 8.649 sec.\n"
     ]
    }
   ],
   "source": [
    "test_pipeline(Pipeline([('cvect', CountVectorizer()),\n",
    "                      ('tfidf', TfidfTransformer(use_idf=False)),\n",
    "                      ('sgdc', SGDClassifier(loss='hinge', penalty='l2',\n",
    "                                            alpha=1e-4, random_state=42,\n",
    "                                            max_iter=40, tol=None)),\n",
    "                         ]), verbose=False, name='use_idf=False')"
   ]
  },
  {
   "cell_type": "code",
   "execution_count": 34,
   "metadata": {},
   "outputs": [
    {
     "name": "stdout",
     "output_type": "stream",
     "text": [
      "F1 = 0.844 \n",
      "Accuracy = 0.851\n",
      "time = 7.663 sec.\n"
     ]
    }
   ],
   "source": [
    "test_pipeline(Pipeline([('cvect', CountVectorizer(stop_words='english')),\n",
    "                      ('tfidf', TfidfTransformer()),\n",
    "                      ('sgdc', SGDClassifier(loss='hinge', penalty='l2',\n",
    "                                            alpha=1e-4, random_state=42,\n",
    "                                            max_iter=40, tol=None)),\n",
    "                         ]), verbose=False, name='stopwords')"
   ]
  },
  {
   "cell_type": "code",
   "execution_count": 35,
   "metadata": {},
   "outputs": [
    {
     "name": "stdout",
     "output_type": "stream",
     "text": [
      "F1 = 0.850 \n",
      "Accuracy = 0.856\n",
      "time = 20.152 sec.\n"
     ]
    }
   ],
   "source": [
    "test_pipeline(Pipeline([('cvect', CountVectorizer(stop_words='english', ngram_range=(1,2),\n",
    "                                                max_df = 0.8, min_df=2)),\n",
    "                      ('tfidf', TfidfTransformer()),\n",
    "                      ('sgdc', SGDClassifier(loss='hinge', penalty='l2',\n",
    "                                            alpha=1e-4, random_state=42,\n",
    "                                            max_iter=40, tol=None)),\n",
    "                         ]), verbose=False, name='ngram_range=(1,2)')"
   ]
  },
  {
   "cell_type": "code",
   "execution_count": 36,
   "metadata": {},
   "outputs": [
    {
     "name": "stdout",
     "output_type": "stream",
     "text": [
      "F1 = 0.746 \n",
      "Accuracy = 0.753\n",
      "time = 7.966 sec.\n"
     ]
    }
   ],
   "source": [
    "test_pipeline(Pipeline([('cvect', CountVectorizer(stop_words='english')),\n",
    "                      ('tfidf', TfidfTransformer(norm=None)),\n",
    "                      ('sgdc', SGDClassifier(loss='hinge', penalty='l2',\n",
    "                                            alpha=1e-4, random_state=42,\n",
    "                                            max_iter=40, tol=None)),\n",
    "                         ]), verbose=False, name='norm = None')"
   ]
  },
  {
   "cell_type": "code",
   "execution_count": 37,
   "metadata": {},
   "outputs": [
    {
     "name": "stdout",
     "output_type": "stream",
     "text": [
      "F1 = 0.852 \n",
      "Accuracy = 0.859\n",
      "time = 7.945 sec.\n"
     ]
    }
   ],
   "source": [
    "test_pipeline(Pipeline([('cvect', CountVectorizer(stop_words='english')),\n",
    "                      ('tfidf', TfidfTransformer(sublinear_tf=True)),\n",
    "                      ('sgdc', SGDClassifier(loss='hinge', penalty='l2',\n",
    "                                            alpha=1e-4, random_state=42,\n",
    "                                            max_iter=40, tol=None)),\n",
    "                         ]), verbose=False, name='sublinear_tf=True')"
   ]
  },
  {
   "cell_type": "code",
   "execution_count": 38,
   "metadata": {},
   "outputs": [
    {
     "name": "stdout",
     "output_type": "stream",
     "text": [
      "F1 = 0.810 \n",
      "Accuracy = 0.823\n",
      "time = 9.898 sec.\n"
     ]
    }
   ],
   "source": [
    "test_pipeline(Pipeline([('cvect', CountVectorizer(stop_words='english')),\n",
    "                      ('tfidf', TfidfTransformer(norm='l1')),\n",
    "                      ('sgdc', SGDClassifier(loss='hinge', penalty='l2',\n",
    "                                            alpha=1e-4, random_state=42,\n",
    "                                            max_iter=40, tol=None)),\n",
    "                         ]), verbose=False, name='norm=l1')"
   ]
  },
  {
   "cell_type": "code",
   "execution_count": 39,
   "metadata": {},
   "outputs": [
    {
     "name": "stdout",
     "output_type": "stream",
     "text": [
      "F1 = 0.848 \n",
      "Accuracy = 0.853\n",
      "time = 32.481 sec.\n"
     ]
    }
   ],
   "source": [
    "test_pipeline(Pipeline([('cvect', CountVectorizer(stop_words='english', ngram_range=(1,3),\n",
    "                                                max_df = 0.8, min_df=2)),\n",
    "                      ('tfidf', TfidfTransformer()),\n",
    "                      ('sgdc', SGDClassifier(loss='hinge', penalty='l2',\n",
    "                                            alpha=1e-4, random_state=42,\n",
    "                                            max_iter=40, tol=None)),\n",
    "                         ]), verbose=False, name='ngram_range=(1,3)')"
   ]
  },
  {
   "cell_type": "code",
   "execution_count": 40,
   "metadata": {},
   "outputs": [
    {
     "name": "stdout",
     "output_type": "stream",
     "text": [
      "F1 = 0.850 \n",
      "Accuracy = 0.856\n",
      "time = 18.030 sec.\n"
     ]
    }
   ],
   "source": [
    "test_pipeline(Pipeline([('cvect', CountVectorizer(stop_words='english', ngram_range=(1,2), \n",
    "                                                max_df = 0.8, min_df=2)),\n",
    "                      ('tfidf', TfidfTransformer()),\n",
    "                      ('sgdc', SGDClassifier(loss='hinge', penalty='l2',\n",
    "                                            alpha=1e-4, random_state=42,\n",
    "                                            max_iter=40, tol=None)),\n",
    "                         ]), verbose=False, name = 'max_features=10000')"
   ]
  },
  {
   "cell_type": "code",
   "execution_count": 41,
   "metadata": {},
   "outputs": [
    {
     "name": "stdout",
     "output_type": "stream",
     "text": [
      "F1 = 0.850 \n",
      "Accuracy = 0.856\n",
      "time = 19.539 sec.\n"
     ]
    }
   ],
   "source": [
    "test_pipeline(Pipeline([('cvect', CountVectorizer(stop_words='english', ngram_range=(1,2), max_df = 0.8, min_df=2)),\n",
    "                      ('tfidf', TfidfTransformer()),\n",
    "                      ('sgdc', SGDClassifier(loss='hinge', penalty='l2',\n",
    "                                            alpha=1e-4, random_state=42,\n",
    "                                            max_iter=40, tol=None, n_jobs=-1)),\n",
    "                         ]), verbose=False, name='max_df = 0.8, min_df=3')"
   ]
  },
  {
   "cell_type": "code",
   "execution_count": 42,
   "metadata": {},
   "outputs": [
    {
     "name": "stdout",
     "output_type": "stream",
     "text": [
      "F1 = 0.839 \n",
      "Accuracy = 0.847\n",
      "time = 4.891 sec.\n"
     ]
    }
   ],
   "source": [
    "test_pipeline(Pipeline([('cvect', CountVectorizer(stop_words='english', token_pattern=\"[a-zA-Z]{3,}\")),\n",
    "                      ('tfidf', TfidfTransformer()),\n",
    "                      ('sgdc', SGDClassifier(loss='hinge', penalty='l2',\n",
    "                                            alpha=1e-4, random_state=42,\n",
    "                                            max_iter=40, tol=None, n_jobs=-1)),\n",
    "                         ]), verbose=False, name='no numbers')"
   ]
  },
  {
   "cell_type": "code",
   "execution_count": 43,
   "metadata": {},
   "outputs": [
    {
     "name": "stdout",
     "output_type": "stream",
     "text": [
      "F1 = 0.847 \n",
      "Accuracy = 0.854\n",
      "time = 7.771 sec.\n"
     ]
    }
   ],
   "source": [
    "test_pipeline(Pipeline([('cvect', CountVectorizer(stop_words='english', token_pattern=\"[a-zA-Z0-9.-]{1,}\")),\n",
    "                      ('tfidf', TfidfTransformer()),\n",
    "                      ('sgdc', SGDClassifier(loss='hinge', penalty='l2',\n",
    "                                            alpha=1e-4, random_state=42,\n",
    "                                            max_iter=40, tol=None, n_jobs=-1)),\n",
    "                         ]), verbose=False, name='dots in words')"
   ]
  },
  {
   "cell_type": "code",
   "execution_count": 44,
   "metadata": {},
   "outputs": [
    {
     "name": "stdout",
     "output_type": "stream",
     "text": [
      "F1 = 0.859 \n",
      "Accuracy = 0.865\n",
      "time = 16.261 sec.\n"
     ]
    }
   ],
   "source": [
    "test_pipeline(Pipeline([('cvect', CountVectorizer(stop_words='english', \n",
    "                                                 ngram_range=(1,2), min_df=3,max_df=0.8)),\n",
    "                      ('tfidf', TfidfTransformer(sublinear_tf=True)),\n",
    "                      ('sgdc', SGDClassifier(loss='hinge', penalty='l2',\n",
    "                                            alpha=1e-4, random_state=42,\n",
    "                                            max_iter=40, tol=None, n_jobs=-1)),\n",
    "                         ]), verbose=False, name='ngram + sublinear_tf')"
   ]
  },
  {
   "cell_type": "markdown",
   "metadata": {},
   "source": [
    "# Char N-grams"
   ]
  },
  {
   "cell_type": "code",
   "execution_count": 45,
   "metadata": {},
   "outputs": [
    {
     "name": "stdout",
     "output_type": "stream",
     "text": [
      "n=3\n",
      "F1 = 0.842 \n",
      "Accuracy = 0.850\n",
      "time = 28.646 sec.\n",
      "n=4\n",
      "F1 = 0.860 \n",
      "Accuracy = 0.867\n",
      "time = 51.463 sec.\n",
      "n=5\n",
      "F1 = 0.863 \n",
      "Accuracy = 0.870\n",
      "time = 88.122 sec.\n",
      "n=6\n",
      "F1 = 0.856 \n",
      "Accuracy = 0.863\n",
      "time = 104.931 sec.\n",
      "n=7\n",
      "F1 = 0.851 \n",
      "Accuracy = 0.858\n",
      "time = 136.673 sec.\n"
     ]
    }
   ],
   "source": [
    "for n in range(3,8,1):\n",
    "    print('\\nN-grams = '+ str(n))\n",
    "    test_pipeline(Pipeline([('cvect', CountVectorizer(analyzer='char', ngram_range=(n,n), \n",
    "                                                     min_df=2, max_df=0.9)),\n",
    "                      ('tfidf', TfidfTransformer(sublinear_tf=True)),\n",
    "                      ('sgdc', SGDClassifier(loss='hinge', penalty='l2',\n",
    "                                            alpha=1e-4, random_state=42,\n",
    "                                            max_iter=40, tol=None, n_jobs=-1)),\n",
    "                         ]), verbose=False, name='char ngram ' + str(n) + ' + sublinear_tf')"
   ]
  },
  {
   "cell_type": "markdown",
   "metadata": {},
   "source": [
    "# SVM Model\n",
    "[SVC](http://scikit-learn.org/stable/modules/generated/sklearn.svm.SVC.html)    \n",
    "[LinearSVC](http://scikit-learn.org/stable/modules/generated/sklearn.svm.LinearSVC.html)"
   ]
  },
  {
   "cell_type": "code",
   "execution_count": 46,
   "metadata": {},
   "outputs": [
    {
     "name": "stdout",
     "output_type": "stream",
     "text": [
      "F1 = 0.783 \n",
      "Accuracy = 0.789\n",
      "time = 58.485 sec.\n"
     ]
    }
   ],
   "source": [
    "from sklearn.svm import SVC\n",
    "from sklearn.decomposition import TruncatedSVD\n",
    "test_pipeline(Pipeline([('cvect', CountVectorizer(stop_words='english')),\n",
    "                      ('tfidf', TfidfTransformer()),\n",
    "                      ('svd', TruncatedSVD(n_components=300)),\n",
    "                      ('svc', SVC(kernel='linear', C=10)),\n",
    "                         ]), verbose=False, name='SVC + TruncatedSVD')"
   ]
  },
  {
   "cell_type": "code",
   "execution_count": 47,
   "metadata": {},
   "outputs": [
    {
     "name": "stdout",
     "output_type": "stream",
     "text": [
      "F1 = 0.830 \n",
      "Accuracy = 0.835\n",
      "time = 163.133 sec.\n"
     ]
    }
   ],
   "source": [
    "from sklearn.svm import SVC\n",
    "from sklearn.decomposition import TruncatedSVD\n",
    "test_pipeline(Pipeline([('cvect', CountVectorizer(stop_words='english')),\n",
    "                      ('tfidf', TfidfTransformer()),\n",
    "                      ('svc', SVC(kernel='linear')),\n",
    "                         ]), verbose=False, name='SVC')"
   ]
  },
  {
   "cell_type": "code",
   "execution_count": 48,
   "metadata": {},
   "outputs": [
    {
     "name": "stdout",
     "output_type": "stream",
     "text": [
      "F1 = 0.841 \n",
      "Accuracy = 0.847\n",
      "time = 9.178 sec.\n"
     ]
    }
   ],
   "source": [
    "from sklearn.svm import LinearSVC\n",
    "from sklearn.decomposition import TruncatedSVD\n",
    "test_pipeline(Pipeline([('cvect', CountVectorizer(stop_words='english')),\n",
    "                      ('tfidf', TfidfTransformer()),\n",
    "                      ('sgdc', LinearSVC(C=10)),\n",
    "                         ]), verbose=False, name='LinearSVC, C=10')"
   ]
  },
  {
   "cell_type": "code",
   "execution_count": 49,
   "metadata": {},
   "outputs": [
    {
     "name": "stdout",
     "output_type": "stream",
     "text": [
      "F1 = 0.845 \n",
      "Accuracy = 0.851\n",
      "time = 5.639 sec.\n"
     ]
    }
   ],
   "source": [
    "from sklearn.svm import LinearSVC\n",
    "from sklearn.decomposition import TruncatedSVD\n",
    "test_pipeline(Pipeline([('cvect', CountVectorizer(stop_words='english')),\n",
    "                      ('tfidf', TfidfTransformer()),\n",
    "                      ('sgdc', LinearSVC(C=1)),\n",
    "                         ]), verbose=False, name='LinearSVC, C=1')"
   ]
  },
  {
   "cell_type": "markdown",
   "metadata": {},
   "source": [
    "# Metadata Features\n",
    "Code adapted from: http://scikit-learn.org/stable/auto_examples/hetero_feature_union.html"
   ]
  },
  {
   "cell_type": "code",
   "execution_count": 50,
   "metadata": {},
   "outputs": [],
   "source": [
    "from sklearn.base import BaseEstimator, TransformerMixin\n",
    "from sklearn.feature_extraction import DictVectorizer\n",
    "from sklearn.pipeline import FeatureUnion\n",
    "from sklearn.preprocessing import StandardScaler\n",
    "from sklearn.datasets.twenty_newsgroups import strip_newsgroup_footer\n",
    "from sklearn.datasets.twenty_newsgroups import strip_newsgroup_quoting\n"
   ]
  },
  {
   "cell_type": "code",
   "execution_count": 51,
   "metadata": {},
   "outputs": [
    {
     "name": "stdout",
     "output_type": "stream",
     "text": [
      "F1 = 0.772 \n",
      "Accuracy = 0.779\n",
      "time = 8.715 sec.\n"
     ]
    }
   ],
   "source": [
    "\n",
    "\n",
    "class ItemSelector(BaseEstimator, TransformerMixin):\n",
    "    \"\"\"For data grouped by feature, select subset of data at a provided key.\n",
    "\n",
    "    The data is expected to be stored in a 2D data structure, where the first\n",
    "    index is over features and the second is over samples.  i.e.\n",
    "\n",
    "    >> len(data[key]) == n_samples\n",
    "\n",
    "    Please note that this is the opposite convention to scikit-learn feature\n",
    "    matrixes (where the first index corresponds to sample).\n",
    "\n",
    "    ItemSelector only requires that the collection implement getitem\n",
    "    (data[key]).  Examples include: a dict of lists, 2D numpy array, Pandas\n",
    "    DataFrame, numpy record array, etc.\n",
    "\n",
    "    >> data = {'a': [1, 5, 2, 5, 2, 8],\n",
    "               'b': [9, 4, 1, 4, 1, 3]}\n",
    "    >> ds = ItemSelector(key='a')\n",
    "    >> data['a'] == ds.transform(data)\n",
    "\n",
    "    ItemSelector is not designed to handle data grouped by sample.  (e.g. a\n",
    "    list of dicts).  If your data is structured this way, consider a\n",
    "    transformer along the lines of `sklearn.feature_extraction.DictVectorizer`.\n",
    "\n",
    "    Parameters\n",
    "    ----------\n",
    "    key : hashable, required\n",
    "        The key corresponding to the desired value in a mappable.\n",
    "    \"\"\"\n",
    "    def __init__(self, key):\n",
    "        self.key = key\n",
    "\n",
    "    def fit(self, x, y=None):\n",
    "        return self\n",
    "\n",
    "    def transform(self, data_dict):\n",
    "        return data_dict[self.key]\n",
    "\n",
    "\n",
    "class TextStats(BaseEstimator, TransformerMixin):\n",
    "    \"\"\"Extract features from each document for DictVectorizer\"\"\"\n",
    "\n",
    "    def fit(self, x, y=None):\n",
    "        return self\n",
    "\n",
    "    def transform(self, posts):\n",
    "        return [{'length': len(text),\n",
    "                 'num_sentences': text.count('.'),\n",
    "                 'num_questions': text.count('?') ,\n",
    "                 'num_dollars': text.count('$'), \n",
    "                 'num_percent': text.count('%'), \n",
    "                 'num_exclamations': text.count('!'), \n",
    "                }\n",
    "                for text in posts]\n",
    "\n",
    "\n",
    "class SubjectBodyExtractor(BaseEstimator, TransformerMixin):\n",
    "    \"\"\"Extract the subject & body from a usenet post in a single pass.\n",
    "\n",
    "    Takes a sequence of strings and produces a dict of sequences.  Keys are\n",
    "    `subject` and `body`.\n",
    "    \"\"\"\n",
    "    def fit(self, x, y=None):\n",
    "        return self\n",
    "\n",
    "    def transform(self, posts):\n",
    "        features = np.recarray(shape=(len(posts),),\n",
    "                               dtype=[('subject', object), ('body', object)])\n",
    "        for i, text in enumerate(posts):\n",
    "            headers, _, bod = text.partition('\\n\\n')\n",
    "            bod = strip_newsgroup_footer(bod)\n",
    "            bod = strip_newsgroup_quoting(bod)\n",
    "            features['body'][i] = bod\n",
    "\n",
    "            prefix = 'Subject:'\n",
    "            sub = ''\n",
    "            for line in headers.split('\\n'):\n",
    "                if line.startswith(prefix):\n",
    "                    sub = line[len(prefix):]\n",
    "                    break\n",
    "            features['subject'][i] = sub\n",
    "\n",
    "        return features\n",
    "\n",
    "\n",
    "class Printer(BaseEstimator, TransformerMixin):\n",
    "    \"\"\"{Print inputs}\"\"\"\n",
    "\n",
    "    def __init__(self, count):\n",
    "        self.count = count\n",
    "\n",
    "    \n",
    "    def fit(self, x, y=None):\n",
    "        return self\n",
    "\n",
    "    def transform(self, x):\n",
    "        if(self.count >0):\n",
    "            self.count-=1\n",
    "            print(x[0])\n",
    "        return x\n",
    "    \n",
    "    \n",
    "pipeline = Pipeline([\n",
    "    # Extract the subject & body\n",
    "    ('subjectbody', SubjectBodyExtractor()),\n",
    "\n",
    "    # Use FeatureUnion to combine the features from subject and body\n",
    "    ('union', FeatureUnion(n_jobs=-1,\n",
    "        transformer_list=[\n",
    "\n",
    "            # Pipeline for pulling features from the post's subject line\n",
    "            ('subject', Pipeline([\n",
    "                ('selector', ItemSelector(key='subject')),\n",
    "                ('tfidf', TfidfVectorizer(min_df=1)),\n",
    "            ])),\n",
    "\n",
    "            # Pipeline for standard bag-of-words model for body\n",
    "            ('body_bow', Pipeline([\n",
    "                ('selector', ItemSelector(key='body')),\n",
    "                ('tfidf', TfidfVectorizer()),\n",
    "            ])),\n",
    "            \n",
    "            # Pipeline for pulling ad hoc features from post's body\n",
    "            ('body_stats', Pipeline([\n",
    "                ('selector', ItemSelector(key='body')),\n",
    "                ('stats', TextStats()),  # returns a list of dicts\n",
    "                ('cvect', DictVectorizer()),  # list of dicts -> feature matrix\n",
    "                #('print',Printer(1)),\n",
    "                # scaling is needed so SGD model will have balanced feature gradients\n",
    "                ('scale', StandardScaler(copy=False, with_mean=False, with_std=True) ),\n",
    "                #('print2',Printer(1)),\n",
    "            ])),\n",
    "        ],\n",
    "\n",
    "        # weight components in FeatureUnion\n",
    "        transformer_weights={\n",
    "            'subject': 1,\n",
    "            'body_bow': 1,\n",
    "            'body_stats': 0.1,\n",
    "        },\n",
    "        \n",
    "    )),\n",
    "    #('print',Printer(1)),\n",
    "    # Use a SVC classifier on the combined features\n",
    "    #('svc', SVC(kernel='linear')),\n",
    "    ('sgdc', SGDClassifier(loss='hinge', penalty='l2', alpha=1e-3, random_state=42, max_iter=5, tol=None)),\n",
    "])\n",
    "\n",
    "\n",
    "test_pipeline(pipeline, verbose=False, name='metadata')\n"
   ]
  },
  {
   "cell_type": "markdown",
   "metadata": {},
   "source": [
    "# Randomized Paramerter Search\n",
    "[RandomizedSearchCV](http://scikit-learn.org/stable/modules/generated/sklearn.model_selection.RandomizedSearchCV.html#sklearn.model_selection.RandomizedSearchCV)"
   ]
  },
  {
   "cell_type": "code",
   "execution_count": 101,
   "metadata": {},
   "outputs": [],
   "source": [
    "from scipy.stats import expon as sp_expon\n",
    "from scipy.stats import randint as sp_randint\n",
    "from scipy.stats import uniform as sp_uniform\n",
    "\n",
    " "
   ]
  },
  {
   "cell_type": "code",
   "execution_count": 115,
   "metadata": {},
   "outputs": [
    {
     "data": {
      "image/png": "[encoded data removed]",
      "text/plain": [
       "<matplotlib.figure.Figure at 0x1ad3586160>"
      ]
     },
     "metadata": {},
     "output_type": "display_data"
    },
    {
     "data": {
      "text/plain": [
       "<matplotlib.figure.Figure at 0x1ade59f9b0>"
      ]
     },
     "metadata": {},
     "output_type": "display_data"
    }
   ],
   "source": [
    "r = sp_expon(loc=0,scale=1e-4).rvs(size=100000)\n",
    "r = np.log10(r)\n",
    "fig, ax = plt.subplots(1, 1, figsize=(12, 5))\n",
    "ax.hist(r,  bins=100)\n",
    "ax.legend(loc='best', frameon=False)\n",
    "#ax.set_xscale('log')\n",
    "plt.figure(figsize=(15,10))\n",
    "plt.show()"
   ]
  },
  {
   "cell_type": "code",
   "execution_count": 114,
   "metadata": {
    "scrolled": true
   },
   "outputs": [
    {
     "data": {
      "image/png": "[encoded data removed]",
      "text/plain": [
       "<matplotlib.figure.Figure at 0x1ad357d080>"
      ]
     },
     "metadata": {},
     "output_type": "display_data"
    }
   ],
   "source": [
    "r = sp_uniform(loc=5,scale=10).rvs(size=100000)\n",
    "fig, ax = plt.subplots(1, 1, figsize=(12, 5))\n",
    "ax.hist(r,  bins=100)\n",
    "ax.legend(loc='best', frameon=False)\n",
    "\n",
    "plt.show()"
   ]
  },
  {
   "cell_type": "code",
   "execution_count": 120,
   "metadata": {},
   "outputs": [
    {
     "data": {
      "text/plain": [
       "array([-6.19794449, -8.35859087, -6.66723556, -7.50744716, -6.86784177,\n",
       "       -3.17200183, -6.57871399, -2.7460307 , -2.05774627, -7.16617278,\n",
       "       -6.04885412, -2.3620151 , -6.53174123, -5.47696056, -5.85737658,\n",
       "       -3.39304283, -7.65370447, -8.3469834 , -3.39909406, -7.7843162 ,\n",
       "       -8.87889455, -6.86611324, -8.57750961, -7.87467409, -2.3343524 ,\n",
       "       -5.76151058, -7.3171718 , -7.39423229, -4.97909452, -4.42422213,\n",
       "       -8.76749037, -5.29184276, -2.55273399, -6.87175682, -7.19304433,\n",
       "       -6.57362695, -4.08819218, -6.9518942 , -8.39598604, -6.18776804])"
      ]
     },
     "execution_count": 120,
     "metadata": {},
     "output_type": "execute_result"
    }
   ],
   "source": [
    "sp_uniform(loc=-9,scale=7).rvs(size=40)\n"
   ]
  },
  {
   "cell_type": "code",
   "execution_count": 122,
   "metadata": {},
   "outputs": [
    {
     "data": {
      "text/plain": [
       "array([  3.04746628e-09,   9.34594324e-02,   1.29134783e-04,\n",
       "         4.88967038e-05,   1.99111903e-09,   1.04596337e-07,\n",
       "         2.17898513e-04,   1.40736680e-07,   1.65290711e-08,\n",
       "         3.14945930e-08,   6.68350343e-04,   8.73338700e-07,\n",
       "         1.41030562e-04,   3.36148681e-04,   2.17025204e-05,\n",
       "         1.10240686e-08,   1.03892932e-07,   1.79121279e-04,\n",
       "         9.81062663e-09,   4.25532455e-08,   6.01302179e-03,\n",
       "         1.02366896e-05,   4.68530154e-09,   1.57176139e-07,\n",
       "         5.66314059e-06,   3.07599303e-07,   1.40727454e-02,\n",
       "         7.91439190e-09,   2.22192773e-08,   2.96505329e-09,\n",
       "         1.18886747e-03,   1.76646678e-06,   7.64384419e-02,\n",
       "         3.04870083e-05,   9.94566694e-04,   2.17123990e-09,\n",
       "         3.35640142e-04,   1.70034428e-02,   2.59964256e-09,\n",
       "         1.33125295e-03])"
      ]
     },
     "execution_count": 122,
     "metadata": {},
     "output_type": "execute_result"
    }
   ],
   "source": [
    "np.power(10, sp_uniform(loc=-9,scale=8).rvs(size=40))"
   ]
  },
  {
   "cell_type": "code",
   "execution_count": 117,
   "metadata": {},
   "outputs": [
    {
     "data": {
      "image/png": "[encoded data removed]",
      "text/plain": [
       "<matplotlib.figure.Figure at 0x1abf248b00>"
      ]
     },
     "metadata": {},
     "output_type": "display_data"
    }
   ],
   "source": [
    "r = sp_uniform(loc=-9,scale=7).rvs(size=100000)\n",
    "r = np.power(10,r)\n",
    "fig, ax = plt.subplots(1, 1, figsize=(12, 5))\n",
    "ax.hist(r,  bins=100)\n",
    "ax.legend(loc='best', frameon=False)\n",
    "ax.set_xscale('log')\n",
    "plt.show()"
   ]
  },
  {
   "cell_type": "code",
   "execution_count": 125,
   "metadata": {},
   "outputs": [
    {
     "data": {
      "text/plain": [
       "array([  1.08233195e+01,   8.87823798e+01,   1.16063613e+03,\n",
       "         3.13095597e+03,   6.77690831e+02,   6.69788116e+05,\n",
       "         1.30213768e+05,   2.31440176e+02,   2.76147775e+01,\n",
       "         1.77733409e+04,   6.22798926e+02,   2.91930103e+05,\n",
       "         3.43980161e+01,   5.26117536e+05,   4.35896946e+02,\n",
       "         2.97795220e+04,   6.72397475e+01,   9.97623344e+04,\n",
       "         9.21844188e+03,   3.80917491e+02,   8.12012928e+02,\n",
       "         9.60349071e+03,   5.79627688e+05,   2.68247820e+05,\n",
       "         8.18823108e+01,   7.77550847e+02,   4.19593390e+03,\n",
       "         3.48942547e+01,   5.94444129e+05,   3.11785835e+02,\n",
       "         2.04224552e+05,   2.19628298e+04,   2.99645878e+03,\n",
       "         5.11299159e+03,   2.38864510e+03,   4.23582323e+04,\n",
       "         1.47072729e+05,   1.39110783e+03,   1.65884589e+02,\n",
       "         3.51330973e+04,   1.51970057e+03,   7.04548724e+04,\n",
       "         4.30007877e+03,   2.36136569e+05,   4.81976868e+02,\n",
       "         2.20193316e+04,   2.80159721e+04,   6.84110097e+02,\n",
       "         3.32839463e+04,   1.51847480e+02])"
      ]
     },
     "execution_count": 125,
     "metadata": {},
     "output_type": "execute_result"
    }
   ],
   "source": [
    "def geometric_sample(power_min, power_max, sample_size):\n",
    "    dist = sp_uniform(loc=power_min, scale=power_max-power_min)\n",
    "    return np.power(10, dist.rvs(size=sample_size))\n",
    "\n",
    "geometric_sample(1,6,50)"
   ]
  },
  {
   "cell_type": "code",
   "execution_count": 140,
   "metadata": {},
   "outputs": [
    {
     "name": "stdout",
     "output_type": "stream",
     "text": [
      "Fitting 4 folds for each of 5 candidates, totalling 20 fits\n"
     ]
    },
    {
     "name": "stderr",
     "output_type": "stream",
     "text": [
      "[Parallel(n_jobs=-1)]: Done  20 out of  20 | elapsed:   55.0s finished\n"
     ]
    },
    {
     "name": "stdout",
     "output_type": "stream",
     "text": [
      "F1 = 0.846 \n",
      "Accuracy = 0.853\n",
      "time = 79.909 sec.\n"
     ]
    }
   ],
   "source": [
    "\n",
    "from sklearn.model_selection import RandomizedSearchCV\n",
    "\n",
    "pipeline = Pipeline([('cvect', CountVectorizer(stop_words='english')),\n",
    "                      ('tfidf', TfidfTransformer(sublinear_tf=True)),\n",
    "                      ('sgdc', SGDClassifier( random_state=42, tol=None)),\n",
    "                         ])\n",
    "\n",
    "#ngram_range=(1,2), max_df = 0.8, min_df=2\n",
    "\n",
    "param_dist = {\"cvect__stop_words\": [None,'english'],\n",
    "              \"cvect__ngram_range\": [(1,1),(1,2)],\n",
    "              \"cvect__min_df\": sp_randint(1, 10),\n",
    "              \"cvect__max_df\": sp_uniform(loc=0.5, scale=0.5), # range is (loc, loc+scale)\n",
    "              \"tfidf__sublinear_tf\": [True,False],\n",
    "              \"tfidf__norm\": [None, 'l1', 'l2'],\n",
    "              \"sgdc__max_iter\": sp_randint(5, 40),\n",
    "              \"sgdc__loss\": ['hinge','log'],\n",
    "              \"sgdc__alpha\": geometric_sample(-9,-1,10000),\n",
    "              }\n",
    "\n",
    "rs = RandomizedSearchCV(pipeline, param_distributions=param_dist,\n",
    "                        n_iter=5, n_jobs=-1, cv=4, return_train_score=False, \n",
    "                        verbose=1, scoring='f1_macro')\n",
    "test_pipeline(rs, verbose=False, name='Random Parameter Search')\n",
    "\n"
   ]
  },
  {
   "cell_type": "code",
   "execution_count": 150,
   "metadata": {},
   "outputs": [
    {
     "data": {
      "text/html": [
       "<h3>Best</h3>"
      ],
      "text/plain": [
       "<IPython.core.display.HTML object>"
      ]
     },
     "metadata": {},
     "output_type": "display_data"
    },
    {
     "data": {
      "text/html": [
       "<div>\n",
       "<style>\n",
       "    .dataframe thead tr:only-child th {\n",
       "        text-align: right;\n",
       "    }\n",
       "\n",
       "    .dataframe thead th {\n",
       "        text-align: left;\n",
       "    }\n",
       "\n",
       "    .dataframe tbody tr th {\n",
       "        vertical-align: top;\n",
       "    }\n",
       "</style>\n",
       "<table border=\"1\" class=\"dataframe\">\n",
       "  <thead>\n",
       "    <tr style=\"text-align: right;\">\n",
       "      <th></th>\n",
       "      <th>0</th>\n",
       "    </tr>\n",
       "  </thead>\n",
       "  <tbody>\n",
       "    <tr>\n",
       "      <th>cvect__max_df</th>\n",
       "      <td>0.681787</td>\n",
       "    </tr>\n",
       "    <tr>\n",
       "      <th>cvect__min_df</th>\n",
       "      <td>7</td>\n",
       "    </tr>\n",
       "    <tr>\n",
       "      <th>cvect__ngram_range</th>\n",
       "      <td>(1, 2)</td>\n",
       "    </tr>\n",
       "    <tr>\n",
       "      <th>cvect__stop_words</th>\n",
       "      <td>None</td>\n",
       "    </tr>\n",
       "    <tr>\n",
       "      <th>sgdc__alpha</th>\n",
       "      <td>1.1684e-08</td>\n",
       "    </tr>\n",
       "    <tr>\n",
       "      <th>sgdc__loss</th>\n",
       "      <td>log</td>\n",
       "    </tr>\n",
       "    <tr>\n",
       "      <th>sgdc__max_iter</th>\n",
       "      <td>31</td>\n",
       "    </tr>\n",
       "    <tr>\n",
       "      <th>tfidf__norm</th>\n",
       "      <td>l1</td>\n",
       "    </tr>\n",
       "    <tr>\n",
       "      <th>tfidf__sublinear_tf</th>\n",
       "      <td>True</td>\n",
       "    </tr>\n",
       "  </tbody>\n",
       "</table>\n",
       "</div>"
      ],
      "text/plain": [
       "                              0\n",
       "cvect__max_df          0.681787\n",
       "cvect__min_df                 7\n",
       "cvect__ngram_range       (1, 2)\n",
       "cvect__stop_words          None\n",
       "sgdc__alpha          1.1684e-08\n",
       "sgdc__loss                  log\n",
       "sgdc__max_iter               31\n",
       "tfidf__norm                  l1\n",
       "tfidf__sublinear_tf        True"
      ]
     },
     "metadata": {},
     "output_type": "display_data"
    },
    {
     "data": {
      "text/html": [
       "<h3>All Results</h3>"
      ],
      "text/plain": [
       "<IPython.core.display.HTML object>"
      ]
     },
     "metadata": {},
     "output_type": "display_data"
    },
    {
     "data": {
      "text/html": [
       "<div>\n",
       "<style>\n",
       "    .dataframe thead tr:only-child th {\n",
       "        text-align: right;\n",
       "    }\n",
       "\n",
       "    .dataframe thead th {\n",
       "        text-align: left;\n",
       "    }\n",
       "\n",
       "    .dataframe tbody tr th {\n",
       "        vertical-align: top;\n",
       "    }\n",
       "</style>\n",
       "<table border=\"1\" class=\"dataframe\">\n",
       "  <thead>\n",
       "    <tr style=\"text-align: right;\">\n",
       "      <th></th>\n",
       "      <th>mean_fit_time</th>\n",
       "      <th>mean_score_time</th>\n",
       "      <th>mean_test_score</th>\n",
       "      <th>param_cvect__max_df</th>\n",
       "      <th>param_cvect__min_df</th>\n",
       "      <th>param_cvect__ngram_range</th>\n",
       "      <th>param_cvect__stop_words</th>\n",
       "      <th>param_sgdc__alpha</th>\n",
       "      <th>param_sgdc__loss</th>\n",
       "      <th>param_sgdc__max_iter</th>\n",
       "      <th>...</th>\n",
       "      <th>param_tfidf__sublinear_tf</th>\n",
       "      <th>params</th>\n",
       "      <th>rank_test_score</th>\n",
       "      <th>split0_test_score</th>\n",
       "      <th>split1_test_score</th>\n",
       "      <th>split2_test_score</th>\n",
       "      <th>split3_test_score</th>\n",
       "      <th>std_fit_time</th>\n",
       "      <th>std_score_time</th>\n",
       "      <th>std_test_score</th>\n",
       "    </tr>\n",
       "  </thead>\n",
       "  <tbody>\n",
       "    <tr>\n",
       "      <th>1</th>\n",
       "      <td>33.628564</td>\n",
       "      <td>2.475439</td>\n",
       "      <td>0.918034</td>\n",
       "      <td>0.681787</td>\n",
       "      <td>7</td>\n",
       "      <td>(1, 2)</td>\n",
       "      <td>None</td>\n",
       "      <td>1.1684e-08</td>\n",
       "      <td>log</td>\n",
       "      <td>31</td>\n",
       "      <td>...</td>\n",
       "      <td>True</td>\n",
       "      <td>{'cvect__max_df': 0.68178707717, 'cvect__min_d...</td>\n",
       "      <td>1</td>\n",
       "      <td>0.917856</td>\n",
       "      <td>0.923288</td>\n",
       "      <td>0.913587</td>\n",
       "      <td>0.917394</td>\n",
       "      <td>0.313206</td>\n",
       "      <td>0.117896</td>\n",
       "      <td>0.003457</td>\n",
       "    </tr>\n",
       "    <tr>\n",
       "      <th>2</th>\n",
       "      <td>8.153814</td>\n",
       "      <td>1.068216</td>\n",
       "      <td>0.905653</td>\n",
       "      <td>0.760719</td>\n",
       "      <td>7</td>\n",
       "      <td>(1, 1)</td>\n",
       "      <td>english</td>\n",
       "      <td>2.56167e-06</td>\n",
       "      <td>log</td>\n",
       "      <td>36</td>\n",
       "      <td>...</td>\n",
       "      <td>False</td>\n",
       "      <td>{'cvect__max_df': 0.760719192632, 'cvect__min_...</td>\n",
       "      <td>2</td>\n",
       "      <td>0.895130</td>\n",
       "      <td>0.914596</td>\n",
       "      <td>0.902202</td>\n",
       "      <td>0.910716</td>\n",
       "      <td>0.093918</td>\n",
       "      <td>0.040912</td>\n",
       "      <td>0.007559</td>\n",
       "    </tr>\n",
       "    <tr>\n",
       "      <th>0</th>\n",
       "      <td>34.250980</td>\n",
       "      <td>2.830876</td>\n",
       "      <td>0.892486</td>\n",
       "      <td>0.780691</td>\n",
       "      <td>2</td>\n",
       "      <td>(1, 2)</td>\n",
       "      <td>None</td>\n",
       "      <td>1.9701e-06</td>\n",
       "      <td>hinge</td>\n",
       "      <td>20</td>\n",
       "      <td>...</td>\n",
       "      <td>True</td>\n",
       "      <td>{'cvect__max_df': 0.780690905878, 'cvect__min_...</td>\n",
       "      <td>3</td>\n",
       "      <td>0.891094</td>\n",
       "      <td>0.903037</td>\n",
       "      <td>0.878270</td>\n",
       "      <td>0.897534</td>\n",
       "      <td>0.388580</td>\n",
       "      <td>0.175458</td>\n",
       "      <td>0.009228</td>\n",
       "    </tr>\n",
       "    <tr>\n",
       "      <th>4</th>\n",
       "      <td>6.256637</td>\n",
       "      <td>1.260105</td>\n",
       "      <td>0.884718</td>\n",
       "      <td>0.697954</td>\n",
       "      <td>5</td>\n",
       "      <td>(1, 1)</td>\n",
       "      <td>None</td>\n",
       "      <td>0.00234337</td>\n",
       "      <td>hinge</td>\n",
       "      <td>12</td>\n",
       "      <td>...</td>\n",
       "      <td>True</td>\n",
       "      <td>{'cvect__max_df': 0.697954007686, 'cvect__min_...</td>\n",
       "      <td>4</td>\n",
       "      <td>0.888340</td>\n",
       "      <td>0.884443</td>\n",
       "      <td>0.881212</td>\n",
       "      <td>0.884862</td>\n",
       "      <td>0.151643</td>\n",
       "      <td>0.134915</td>\n",
       "      <td>0.002526</td>\n",
       "    </tr>\n",
       "    <tr>\n",
       "      <th>3</th>\n",
       "      <td>14.886353</td>\n",
       "      <td>1.718540</td>\n",
       "      <td>0.859528</td>\n",
       "      <td>0.980249</td>\n",
       "      <td>5</td>\n",
       "      <td>(1, 2)</td>\n",
       "      <td>english</td>\n",
       "      <td>0.00435459</td>\n",
       "      <td>log</td>\n",
       "      <td>11</td>\n",
       "      <td>...</td>\n",
       "      <td>False</td>\n",
       "      <td>{'cvect__max_df': 0.980249379793, 'cvect__min_...</td>\n",
       "      <td>5</td>\n",
       "      <td>0.845973</td>\n",
       "      <td>0.870977</td>\n",
       "      <td>0.859505</td>\n",
       "      <td>0.861693</td>\n",
       "      <td>0.250353</td>\n",
       "      <td>0.241422</td>\n",
       "      <td>0.008946</td>\n",
       "    </tr>\n",
       "  </tbody>\n",
       "</table>\n",
       "<p>5 rows × 21 columns</p>\n",
       "</div>"
      ],
      "text/plain": [
       "   mean_fit_time  mean_score_time  mean_test_score param_cvect__max_df  \\\n",
       "1      33.628564         2.475439         0.918034            0.681787   \n",
       "2       8.153814         1.068216         0.905653            0.760719   \n",
       "0      34.250980         2.830876         0.892486            0.780691   \n",
       "4       6.256637         1.260105         0.884718            0.697954   \n",
       "3      14.886353         1.718540         0.859528            0.980249   \n",
       "\n",
       "  param_cvect__min_df param_cvect__ngram_range param_cvect__stop_words  \\\n",
       "1                   7                   (1, 2)                    None   \n",
       "2                   7                   (1, 1)                 english   \n",
       "0                   2                   (1, 2)                    None   \n",
       "4                   5                   (1, 1)                    None   \n",
       "3                   5                   (1, 2)                 english   \n",
       "\n",
       "  param_sgdc__alpha param_sgdc__loss param_sgdc__max_iter       ...        \\\n",
       "1        1.1684e-08              log                   31       ...         \n",
       "2       2.56167e-06              log                   36       ...         \n",
       "0        1.9701e-06            hinge                   20       ...         \n",
       "4        0.00234337            hinge                   12       ...         \n",
       "3        0.00435459              log                   11       ...         \n",
       "\n",
       "  param_tfidf__sublinear_tf  \\\n",
       "1                      True   \n",
       "2                     False   \n",
       "0                      True   \n",
       "4                      True   \n",
       "3                     False   \n",
       "\n",
       "                                              params rank_test_score  \\\n",
       "1  {'cvect__max_df': 0.68178707717, 'cvect__min_d...               1   \n",
       "2  {'cvect__max_df': 0.760719192632, 'cvect__min_...               2   \n",
       "0  {'cvect__max_df': 0.780690905878, 'cvect__min_...               3   \n",
       "4  {'cvect__max_df': 0.697954007686, 'cvect__min_...               4   \n",
       "3  {'cvect__max_df': 0.980249379793, 'cvect__min_...               5   \n",
       "\n",
       "   split0_test_score  split1_test_score  split2_test_score  split3_test_score  \\\n",
       "1           0.917856           0.923288           0.913587           0.917394   \n",
       "2           0.895130           0.914596           0.902202           0.910716   \n",
       "0           0.891094           0.903037           0.878270           0.897534   \n",
       "4           0.888340           0.884443           0.881212           0.884862   \n",
       "3           0.845973           0.870977           0.859505           0.861693   \n",
       "\n",
       "   std_fit_time  std_score_time  std_test_score  \n",
       "1      0.313206        0.117896        0.003457  \n",
       "2      0.093918        0.040912        0.007559  \n",
       "0      0.388580        0.175458        0.009228  \n",
       "4      0.151643        0.134915        0.002526  \n",
       "3      0.250353        0.241422        0.008946  \n",
       "\n",
       "[5 rows x 21 columns]"
      ]
     },
     "metadata": {},
     "output_type": "display_data"
    }
   ],
   "source": [
    "header('Best')\n",
    "display( pd.DataFrame.from_dict(rs.best_params_, orient= 'index') )\n",
    "\n",
    "header('All Results')\n",
    "df = pd.DataFrame(rs.cv_results_)\n",
    "df = df.sort_values(['rank_test_score'])\n",
    "display(df)"
   ]
  },
  {
   "cell_type": "markdown",
   "metadata": {},
   "source": [
    "# All Tests"
   ]
  },
  {
   "cell_type": "code",
   "execution_count": null,
   "metadata": {},
   "outputs": [],
   "source": []
  },
  {
   "cell_type": "code",
   "execution_count": 57,
   "metadata": {},
   "outputs": [
    {
     "data": {
      "text/html": [
       "<div>\n",
       "<style>\n",
       "    .dataframe thead tr:only-child th {\n",
       "        text-align: right;\n",
       "    }\n",
       "\n",
       "    .dataframe thead th {\n",
       "        text-align: left;\n",
       "    }\n",
       "\n",
       "    .dataframe tbody tr th {\n",
       "        vertical-align: top;\n",
       "    }\n",
       "</style>\n",
       "<table border=\"1\" class=\"dataframe\">\n",
       "  <thead>\n",
       "    <tr style=\"text-align: right;\">\n",
       "      <th></th>\n",
       "      <th>F1</th>\n",
       "      <th>Accuracy</th>\n",
       "      <th>Time (sec.)</th>\n",
       "      <th>Details</th>\n",
       "    </tr>\n",
       "  </thead>\n",
       "  <tbody>\n",
       "    <tr>\n",
       "      <th>char ngram 5 + sublinear_tf</th>\n",
       "      <td>0.869888</td>\n",
       "      <td>0.863004</td>\n",
       "      <td>88.121540</td>\n",
       "      <td>{'memory': None, 'steps': [('vect', CountVecto...</td>\n",
       "    </tr>\n",
       "    <tr>\n",
       "      <th>char ngram 4 + sublinear_tf</th>\n",
       "      <td>0.866702</td>\n",
       "      <td>0.859743</td>\n",
       "      <td>51.463144</td>\n",
       "      <td>{'memory': None, 'steps': [('vect', CountVecto...</td>\n",
       "    </tr>\n",
       "    <tr>\n",
       "      <th>ngram + sublinear_tf</th>\n",
       "      <td>0.865242</td>\n",
       "      <td>0.859321</td>\n",
       "      <td>16.260978</td>\n",
       "      <td>{'memory': None, 'steps': [('vect', CountVecto...</td>\n",
       "    </tr>\n",
       "    <tr>\n",
       "      <th>char ngram 6 + sublinear_tf</th>\n",
       "      <td>0.862985</td>\n",
       "      <td>0.856477</td>\n",
       "      <td>104.930955</td>\n",
       "      <td>{'memory': None, 'steps': [('vect', CountVecto...</td>\n",
       "    </tr>\n",
       "    <tr>\n",
       "      <th>sublinear_tf=True</th>\n",
       "      <td>0.859400</td>\n",
       "      <td>0.852128</td>\n",
       "      <td>7.945126</td>\n",
       "      <td>{'memory': None, 'steps': [('vect', CountVecto...</td>\n",
       "    </tr>\n",
       "    <tr>\n",
       "      <th>char ngram 7 + sublinear_tf</th>\n",
       "      <td>0.857541</td>\n",
       "      <td>0.851403</td>\n",
       "      <td>136.673174</td>\n",
       "      <td>{'memory': None, 'steps': [('vect', CountVecto...</td>\n",
       "    </tr>\n",
       "    <tr>\n",
       "      <th>max_df = 0.8, min_df=3</th>\n",
       "      <td>0.856213</td>\n",
       "      <td>0.850155</td>\n",
       "      <td>19.539307</td>\n",
       "      <td>{'memory': None, 'steps': [('vect', CountVecto...</td>\n",
       "    </tr>\n",
       "    <tr>\n",
       "      <th>ngram_range=(1,2)</th>\n",
       "      <td>0.856213</td>\n",
       "      <td>0.850155</td>\n",
       "      <td>20.152161</td>\n",
       "      <td>{'memory': None, 'steps': [('vect', CountVecto...</td>\n",
       "    </tr>\n",
       "    <tr>\n",
       "      <th>max_features=10000</th>\n",
       "      <td>0.856213</td>\n",
       "      <td>0.850155</td>\n",
       "      <td>18.030149</td>\n",
       "      <td>{'memory': None, 'steps': [('vect', CountVecto...</td>\n",
       "    </tr>\n",
       "    <tr>\n",
       "      <th>dots in words</th>\n",
       "      <td>0.854488</td>\n",
       "      <td>0.847328</td>\n",
       "      <td>7.770988</td>\n",
       "      <td>{'memory': None, 'steps': [('vect', CountVecto...</td>\n",
       "    </tr>\n",
       "    <tr>\n",
       "      <th>hinge loss</th>\n",
       "      <td>0.853691</td>\n",
       "      <td>0.846033</td>\n",
       "      <td>8.538318</td>\n",
       "      <td>{'memory': None, 'steps': [('vect', CountVecto...</td>\n",
       "    </tr>\n",
       "    <tr>\n",
       "      <th>ngram_range=(1,3)</th>\n",
       "      <td>0.853425</td>\n",
       "      <td>0.847773</td>\n",
       "      <td>32.481024</td>\n",
       "      <td>{'memory': None, 'steps': [('vect', CountVecto...</td>\n",
       "    </tr>\n",
       "    <tr>\n",
       "      <th>stopwords</th>\n",
       "      <td>0.851434</td>\n",
       "      <td>0.844401</td>\n",
       "      <td>7.662910</td>\n",
       "      <td>{'memory': None, 'steps': [('vect', CountVecto...</td>\n",
       "    </tr>\n",
       "    <tr>\n",
       "      <th>LinearSVC, C=1</th>\n",
       "      <td>0.851036</td>\n",
       "      <td>0.844743</td>\n",
       "      <td>5.638668</td>\n",
       "      <td>{'memory': None, 'steps': [('vect', CountVecto...</td>\n",
       "    </tr>\n",
       "    <tr>\n",
       "      <th>char ngram 3 + sublinear_tf</th>\n",
       "      <td>0.850239</td>\n",
       "      <td>0.842296</td>\n",
       "      <td>28.646133</td>\n",
       "      <td>{'memory': None, 'steps': [('vect', CountVecto...</td>\n",
       "    </tr>\n",
       "    <tr>\n",
       "      <th>LinearSVC, C=10</th>\n",
       "      <td>0.846920</td>\n",
       "      <td>0.841163</td>\n",
       "      <td>9.178265</td>\n",
       "      <td>{'memory': None, 'steps': [('vect', CountVecto...</td>\n",
       "    </tr>\n",
       "    <tr>\n",
       "      <th>no numbers</th>\n",
       "      <td>0.846787</td>\n",
       "      <td>0.839302</td>\n",
       "      <td>4.890990</td>\n",
       "      <td>{'memory': None, 'steps': [('vect', CountVecto...</td>\n",
       "    </tr>\n",
       "    <tr>\n",
       "      <th>log loss</th>\n",
       "      <td>0.846654</td>\n",
       "      <td>0.840403</td>\n",
       "      <td>5.877073</td>\n",
       "      <td>{'memory': None, 'steps': [('vect', CountVecto...</td>\n",
       "    </tr>\n",
       "    <tr>\n",
       "      <th>SVC</th>\n",
       "      <td>0.834971</td>\n",
       "      <td>0.829670</td>\n",
       "      <td>163.133363</td>\n",
       "      <td>{'memory': None, 'steps': [('vect', CountVecto...</td>\n",
       "    </tr>\n",
       "    <tr>\n",
       "      <th>log loss no regularization</th>\n",
       "      <td>0.825412</td>\n",
       "      <td>0.819152</td>\n",
       "      <td>5.832684</td>\n",
       "      <td>{'memory': None, 'steps': [('vect', CountVecto...</td>\n",
       "    </tr>\n",
       "    <tr>\n",
       "      <th>norm=l1</th>\n",
       "      <td>0.823155</td>\n",
       "      <td>0.809600</td>\n",
       "      <td>9.898483</td>\n",
       "      <td>{'memory': None, 'steps': [('vect', CountVecto...</td>\n",
       "    </tr>\n",
       "    <tr>\n",
       "      <th>use_idf=False</th>\n",
       "      <td>0.815321</td>\n",
       "      <td>0.803527</td>\n",
       "      <td>8.648641</td>\n",
       "      <td>{'memory': None, 'steps': [('vect', CountVecto...</td>\n",
       "    </tr>\n",
       "    <tr>\n",
       "      <th>SVC + TruncatedSVD</th>\n",
       "      <td>0.788901</td>\n",
       "      <td>0.783213</td>\n",
       "      <td>58.484634</td>\n",
       "      <td>{'memory': None, 'steps': [('vect', CountVecto...</td>\n",
       "    </tr>\n",
       "    <tr>\n",
       "      <th>metadata</th>\n",
       "      <td>0.779076</td>\n",
       "      <td>0.771931</td>\n",
       "      <td>8.715425</td>\n",
       "      <td>{'memory': None, 'steps': [('subjectbody', Sub...</td>\n",
       "    </tr>\n",
       "    <tr>\n",
       "      <th>norm = None</th>\n",
       "      <td>0.753186</td>\n",
       "      <td>0.745847</td>\n",
       "      <td>7.965889</td>\n",
       "      <td>{'memory': None, 'steps': [('vect', CountVecto...</td>\n",
       "    </tr>\n",
       "  </tbody>\n",
       "</table>\n",
       "</div>"
      ],
      "text/plain": [
       "                                   F1  Accuracy  Time (sec.)  \\\n",
       "char ngram 5 + sublinear_tf  0.869888  0.863004    88.121540   \n",
       "char ngram 4 + sublinear_tf  0.866702  0.859743    51.463144   \n",
       "ngram + sublinear_tf         0.865242  0.859321    16.260978   \n",
       "char ngram 6 + sublinear_tf  0.862985  0.856477   104.930955   \n",
       "sublinear_tf=True            0.859400  0.852128     7.945126   \n",
       "char ngram 7 + sublinear_tf  0.857541  0.851403   136.673174   \n",
       "max_df = 0.8, min_df=3       0.856213  0.850155    19.539307   \n",
       "ngram_range=(1,2)            0.856213  0.850155    20.152161   \n",
       "max_features=10000           0.856213  0.850155    18.030149   \n",
       "dots in words                0.854488  0.847328     7.770988   \n",
       "hinge loss                   0.853691  0.846033     8.538318   \n",
       "ngram_range=(1,3)            0.853425  0.847773    32.481024   \n",
       "stopwords                    0.851434  0.844401     7.662910   \n",
       "LinearSVC, C=1               0.851036  0.844743     5.638668   \n",
       "char ngram 3 + sublinear_tf  0.850239  0.842296    28.646133   \n",
       "LinearSVC, C=10              0.846920  0.841163     9.178265   \n",
       "no numbers                   0.846787  0.839302     4.890990   \n",
       "log loss                     0.846654  0.840403     5.877073   \n",
       "SVC                          0.834971  0.829670   163.133363   \n",
       "log loss no regularization   0.825412  0.819152     5.832684   \n",
       "norm=l1                      0.823155  0.809600     9.898483   \n",
       "use_idf=False                0.815321  0.803527     8.648641   \n",
       "SVC + TruncatedSVD           0.788901  0.783213    58.484634   \n",
       "metadata                     0.779076  0.771931     8.715425   \n",
       "norm = None                  0.753186  0.745847     7.965889   \n",
       "\n",
       "                                                                       Details  \n",
       "char ngram 5 + sublinear_tf  {'memory': None, 'steps': [('vect', CountVecto...  \n",
       "char ngram 4 + sublinear_tf  {'memory': None, 'steps': [('vect', CountVecto...  \n",
       "ngram + sublinear_tf         {'memory': None, 'steps': [('vect', CountVecto...  \n",
       "char ngram 6 + sublinear_tf  {'memory': None, 'steps': [('vect', CountVecto...  \n",
       "sublinear_tf=True            {'memory': None, 'steps': [('vect', CountVecto...  \n",
       "char ngram 7 + sublinear_tf  {'memory': None, 'steps': [('vect', CountVecto...  \n",
       "max_df = 0.8, min_df=3       {'memory': None, 'steps': [('vect', CountVecto...  \n",
       "ngram_range=(1,2)            {'memory': None, 'steps': [('vect', CountVecto...  \n",
       "max_features=10000           {'memory': None, 'steps': [('vect', CountVecto...  \n",
       "dots in words                {'memory': None, 'steps': [('vect', CountVecto...  \n",
       "hinge loss                   {'memory': None, 'steps': [('vect', CountVecto...  \n",
       "ngram_range=(1,3)            {'memory': None, 'steps': [('vect', CountVecto...  \n",
       "stopwords                    {'memory': None, 'steps': [('vect', CountVecto...  \n",
       "LinearSVC, C=1               {'memory': None, 'steps': [('vect', CountVecto...  \n",
       "char ngram 3 + sublinear_tf  {'memory': None, 'steps': [('vect', CountVecto...  \n",
       "LinearSVC, C=10              {'memory': None, 'steps': [('vect', CountVecto...  \n",
       "no numbers                   {'memory': None, 'steps': [('vect', CountVecto...  \n",
       "log loss                     {'memory': None, 'steps': [('vect', CountVecto...  \n",
       "SVC                          {'memory': None, 'steps': [('vect', CountVecto...  \n",
       "log loss no regularization   {'memory': None, 'steps': [('vect', CountVecto...  \n",
       "norm=l1                      {'memory': None, 'steps': [('vect', CountVecto...  \n",
       "use_idf=False                {'memory': None, 'steps': [('vect', CountVecto...  \n",
       "SVC + TruncatedSVD           {'memory': None, 'steps': [('vect', CountVecto...  \n",
       "metadata                     {'memory': None, 'steps': [('subjectbody', Sub...  \n",
       "norm = None                  {'memory': None, 'steps': [('vect', CountVecto...  "
      ]
     },
     "metadata": {},
     "output_type": "display_data"
    },
    {
     "data": {
      "text/html": [
       "<h3>Best Model</h3>"
      ],
      "text/plain": [
       "<IPython.core.display.HTML object>"
      ]
     },
     "metadata": {},
     "output_type": "display_data"
    },
    {
     "data": {
      "text/html": [
       "<div>\n",
       "<style>\n",
       "    .dataframe thead tr:only-child th {\n",
       "        text-align: right;\n",
       "    }\n",
       "\n",
       "    .dataframe thead th {\n",
       "        text-align: left;\n",
       "    }\n",
       "\n",
       "    .dataframe tbody tr th {\n",
       "        vertical-align: top;\n",
       "    }\n",
       "</style>\n",
       "<table border=\"1\" class=\"dataframe\">\n",
       "  <thead>\n",
       "    <tr style=\"text-align: right;\">\n",
       "      <th></th>\n",
       "      <th>F1</th>\n",
       "      <th>Accuracy</th>\n",
       "      <th>Time (sec.)</th>\n",
       "      <th>Details</th>\n",
       "    </tr>\n",
       "  </thead>\n",
       "  <tbody>\n",
       "    <tr>\n",
       "      <th>char ngram 5 + sublinear_tf</th>\n",
       "      <td>0.869888</td>\n",
       "      <td>0.863004</td>\n",
       "      <td>88.12154</td>\n",
       "      <td>{'memory': None, 'steps': [('vect', CountVecto...</td>\n",
       "    </tr>\n",
       "  </tbody>\n",
       "</table>\n",
       "</div>"
      ],
      "text/plain": [
       "                                   F1  Accuracy  Time (sec.)  \\\n",
       "char ngram 5 + sublinear_tf  0.869888  0.863004     88.12154   \n",
       "\n",
       "                                                                       Details  \n",
       "char ngram 5 + sublinear_tf  {'memory': None, 'steps': [('vect', CountVecto...  "
      ]
     },
     "metadata": {},
     "output_type": "display_data"
    },
    {
     "name": "stdout",
     "output_type": "stream",
     "text": [
      "{'memory': None, 'steps': [('vect', CountVectorizer(analyzer='char', binary=False, decode_error='strict',\n",
      "        dtype=<class 'numpy.int64'>, encoding='utf-8', input='content',\n",
      "        lowercase=True, max_df=0.9, max_features=None, min_df=2,\n",
      "        ngram_range=(5, 5), preprocessor=None, stop_words=None,\n",
      "        strip_accents=None, token_pattern='(?u)\\\\b\\\\w\\\\w+\\\\b',\n",
      "        tokenizer=None, vocabulary=None)), ('tfidf', TfidfTransformer(norm='l2', smooth_idf=True, sublinear_tf=True, use_idf=True)), ('clf', SGDClassifier(alpha=0.0001, average=False, class_weight=None, epsilon=0.1,\n",
      "       eta0=0.0, fit_intercept=True, l1_ratio=0.15,\n",
      "       learning_rate='optimal', loss='hinge', max_iter=40, n_iter=None,\n",
      "       n_jobs=-1, penalty='l2', power_t=0.5, random_state=42, shuffle=True,\n",
      "       tol=None, verbose=0, warm_start=False))], 'vect': CountVectorizer(analyzer='char', binary=False, decode_error='strict',\n",
      "        dtype=<class 'numpy.int64'>, encoding='utf-8', input='content',\n",
      "        lowercase=True, max_df=0.9, max_features=None, min_df=2,\n",
      "        ngram_range=(5, 5), preprocessor=None, stop_words=None,\n",
      "        strip_accents=None, token_pattern='(?u)\\\\b\\\\w\\\\w+\\\\b',\n",
      "        tokenizer=None, vocabulary=None), 'tfidf': TfidfTransformer(norm='l2', smooth_idf=True, sublinear_tf=True, use_idf=True), 'clf': SGDClassifier(alpha=0.0001, average=False, class_weight=None, epsilon=0.1,\n",
      "       eta0=0.0, fit_intercept=True, l1_ratio=0.15,\n",
      "       learning_rate='optimal', loss='hinge', max_iter=40, n_iter=None,\n",
      "       n_jobs=-1, penalty='l2', power_t=0.5, random_state=42, shuffle=True,\n",
      "       tol=None, verbose=0, warm_start=False), 'vect__analyzer': 'char', 'vect__binary': False, 'vect__decode_error': 'strict', 'vect__dtype': <class 'numpy.int64'>, 'vect__encoding': 'utf-8', 'vect__input': 'content', 'vect__lowercase': True, 'vect__max_df': 0.9, 'vect__max_features': None, 'vect__min_df': 2, 'vect__ngram_range': (5, 5), 'vect__preprocessor': None, 'vect__stop_words': None, 'vect__strip_accents': None, 'vect__token_pattern': '(?u)\\\\b\\\\w\\\\w+\\\\b', 'vect__tokenizer': None, 'vect__vocabulary': None, 'tfidf__norm': 'l2', 'tfidf__smooth_idf': True, 'tfidf__sublinear_tf': True, 'tfidf__use_idf': True, 'clf__alpha': 0.0001, 'clf__average': False, 'clf__class_weight': None, 'clf__epsilon': 0.1, 'clf__eta0': 0.0, 'clf__fit_intercept': True, 'clf__l1_ratio': 0.15, 'clf__learning_rate': 'optimal', 'clf__loss': 'hinge', 'clf__max_iter': 40, 'clf__n_iter': None, 'clf__n_jobs': -1, 'clf__penalty': 'l2', 'clf__power_t': 0.5, 'clf__random_state': 42, 'clf__shuffle': True, 'clf__tol': None, 'clf__verbose': 0, 'clf__warm_start': False}\n"
     ]
    }
   ],
   "source": [
    "tests_df=pd.DataFrame.from_dict(tests, orient= 'index')\n",
    "tests_df = tests_df.drop(['Name'], axis=1)\n",
    "tests_df.columns=[ 'F1', 'Accuracy', 'Time (sec.)', 'Details']\n",
    "tests_df = tests_df.sort_values(by=['F1'], ascending=False)\n",
    "display(tests_df)\n",
    "\n",
    "header('Best Model')\n",
    "display(tests_df.head(1))\n",
    "print(tests_df['Details'].values[0])"
   ]
  },
  {
   "cell_type": "code",
   "execution_count": 55,
   "metadata": {},
   "outputs": [
    {
     "data": {
      "text/plain": [
       "<matplotlib.axes._subplots.AxesSubplot at 0x1ad332f390>"
      ]
     },
     "execution_count": 55,
     "metadata": {},
     "output_type": "execute_result"
    },
    {
     "data": {
      "image/png": "[encoded data removed]",
      "text/plain": [
       "<matplotlib.figure.Figure at 0x1ae6a8b400>"
      ]
     },
     "metadata": {},
     "output_type": "display_data"
    }
   ],
   "source": [
    "plt.figure(figsize=(10,10))\n",
    "tests_df['F1'].plot(kind='bar', ylim=(0.7,None))"
   ]
  },
  {
   "cell_type": "code",
   "execution_count": null,
   "metadata": {
    "collapsed": true
   },
   "outputs": [],
   "source": []
  },
  {
   "cell_type": "code",
   "execution_count": null,
   "metadata": {
    "collapsed": true
   },
   "outputs": [],
   "source": []
  }
 ],
 "metadata": {
  "kernelspec": {
   "display_name": "Python 3",
   "language": "python",
   "name": "python3"
  },
  "language_info": {
   "codemirror_mode": {
    "name": "ipython",
    "version": 3
   },
   "file_extension": ".py",
   "mimetype": "text/x-python",
   "name": "python",
   "nbconvert_exporter": "python",
   "pygments_lexer": "ipython3",
   "version": "3.6.3"
  }
 },
 "nbformat": 4,
 "nbformat_minor": 2
}
