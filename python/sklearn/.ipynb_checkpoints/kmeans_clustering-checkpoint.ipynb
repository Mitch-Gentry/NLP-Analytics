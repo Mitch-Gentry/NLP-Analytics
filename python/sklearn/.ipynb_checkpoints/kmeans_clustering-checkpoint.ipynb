{
 "cells": [
  {
   "cell_type": "markdown",
   "metadata": {},
   "source": [
    "# K-means Clustering in sklearn\n",
    "\n",
    "This example uses a dataset downloaded from https://www.opensubtitles.org/en/search/vip and the raw data at opus.lingfil.uu.se/OpenSubtitles2016/raw/en. Metadata such as title actor and director was scraped from IMDB and is not guaranteed to be complete. This example uses the last 5000 most recent movies.\n",
    "\n",
    "The code does the following:\n",
    "1. counts words \n",
    "2. builds a TFIDF weighted vocabulary\n",
    "3. Applies the TFIDF weights to the word counts to create a sparce matrix\n",
    "4. Runs K-means clustering on the sparce matrix\n",
    "5. Prints top words for each cluster using the largest features in the cluster centroid\n",
    "\n"
   ]
  },
  {
   "cell_type": "markdown",
   "metadata": {},
   "source": [
    "## Unarchive"
   ]
  },
  {
   "cell_type": "code",
   "execution_count": 9,
   "metadata": {},
   "outputs": [
    {
     "name": "stdout",
     "output_type": "stream",
     "text": [
      "2.7.13 (default, Jul 30 2017, 14:48:40) \n",
      "[GCC 4.2.1 Compatible Apple LLVM 8.1.0 (clang-802.0.42)]\n"
     ]
    }
   ],
   "source": [
    "import sys\n",
    "print sys.version"
   ]
  },
  {
   "cell_type": "code",
   "execution_count": 17,
   "metadata": {},
   "outputs": [
    {
     "name": "stdout",
     "output_type": "stream",
     "text": [
      "Unarchiving ...\n",
      "file unarchived to:/var/folders/9l/w4_vhqyn5rz64fh1x9zzcsvr0000gn/T/tmpvmN7wd/openSubtitles-5000.json\n"
     ]
    }
   ],
   "source": [
    "import tempfile\n",
    "import zipfile\n",
    "import os.path\n",
    "\n",
    "zipFile = \"./openSubtitles-5000.json.zip\"\n",
    "\n",
    "print \"Unarchiving ...\"\n",
    "temp_dir = tempfile.mkdtemp()\n",
    "zip_ref = zipfile.ZipFile(zipFile, 'r')\n",
    "zip_ref.extractall(temp_dir)\n",
    "zip_ref.close()\n",
    "\n",
    "openSubtitlesFile = os.path.join(temp_dir, \"openSubtitles-5000.json\")\n",
    "print \"file unarchived to:\" + openSubtitlesFile\n"
   ]
  },
  {
   "cell_type": "code",
   "execution_count": 29,
   "metadata": {},
   "outputs": [
    {
     "name": "stdout",
     "output_type": "stream",
     "text": [
      "Starting load ...\n",
      "0  Done.\n",
      "term_freq_matrix[0] = \n",
      "  (0, 912)\t1\n",
      "  (0, 3776)\t1\n",
      "  (0, 3632)\t1\n",
      "  (0, 4745)\t1\n",
      "  (0, 2717)\t1\n",
      "  (0, 3917)\t1\n",
      "  (0, 4676)\t1\n",
      "  (0, 2086)\t1\n",
      "  (0, 659)\t1\n",
      "  (0, 1664)\t1\n",
      "  (0, 543)\t1\n",
      "  (0, 698)\t1\n",
      "  (0, 5677)\t1\n",
      "  (0, 1133)\t1\n",
      "  (0, 5892)\t1\n",
      "  (0, 4098)\t1\n",
      "  (0, 2446)\t1\n",
      "  (0, 2609)\t1\n",
      "  (0, 703)\t1\n",
      "  (0, 3167)\t1\n",
      "  (0, 2253)\t1\n",
      "  (0, 5229)\t1\n",
      "  (0, 78)\t1\n",
      "  (0, 4097)\t1\n",
      "  (0, 5341)\t1\n",
      "  :\t:\n",
      "  (0, 1145)\t2\n",
      "  (0, 2601)\t2\n",
      "  (0, 1048)\t1\n",
      "  (0, 2040)\t1\n",
      "  (0, 748)\t1\n",
      "  (0, 1673)\t7\n",
      "  (0, 750)\t1\n",
      "  (0, 5381)\t1\n",
      "  (0, 1271)\t1\n",
      "  (0, 746)\t1\n",
      "  (0, 3237)\t3\n",
      "  (0, 4515)\t12\n",
      "  (0, 2833)\t71\n",
      "  (0, 654)\t3\n",
      "  (0, 3860)\t3\n",
      "  (0, 3346)\t2\n",
      "  (0, 5427)\t2\n",
      "  (0, 974)\t3\n",
      "  (0, 519)\t5\n",
      "  (0, 5837)\t1\n",
      "  (0, 4456)\t58\n",
      "  (0, 220)\t1\n",
      "  (0, 4424)\t1\n",
      "  (0, 5710)\t1\n",
      "  (0, 255)\t14\n",
      "done\n"
     ]
    }
   ],
   "source": [
    "\n",
    "import json\n",
    "from sklearn.feature_extraction.text import CountVectorizer\n",
    "from log_progress import log_progress\n",
    "\n",
    "def make_corpus(file):\n",
    "    with open(file) as f:\n",
    "        for i, line in enumerate(f):\n",
    "            doc = json.loads(line)\n",
    "            if i % 100 == 0:\n",
    "                print \"%d \" % i, \n",
    "            if 'Text' in doc:\n",
    "              yield doc['Text']\n",
    "            if i == 50:\n",
    "                break\n",
    "                \n",
    "print \"Starting load ...\"                \n",
    "textGenerator = make_corpus(openSubtitlesFile)              \n",
    "count_vectorizer = CountVectorizer(min_df=2, max_df=0.5, stop_words='english')\n",
    "term_freq_matrix = count_vectorizer.fit_transform(textGenerator)\n",
    "print \"Done.\"\n",
    "print \"term_freq_matrix[0] = \\n%s\" % term_freq_matrix[0]\n",
    "\n",
    "print \"done\""
   ]
  },
  {
   "cell_type": "code",
   "execution_count": 36,
   "metadata": {},
   "outputs": [
    {
     "name": "stdout",
     "output_type": "stream",
     "text": [
      "Vocabulary length =  5914\n",
      "Total token count for \"raining\" = 4136\n",
      "feature_names[10] = 15\n"
     ]
    }
   ],
   "source": [
    "print \"Vocabulary length = \", len(count_vectorizer.vocabulary_)\n",
    "print \"Total token count for \\\"raining\\\" = %s\" % count_vectorizer.vocabulary_[\"raining\"]\n",
    "feature_names = count_vectorizer.get_feature_names()\n",
    "print \"feature_names[10] = %s\" % feature_names[10]\n"
   ]
  },
  {
   "cell_type": "code",
   "execution_count": null,
   "metadata": {
    "collapsed": true
   },
   "outputs": [],
   "source": []
  },
  {
   "cell_type": "code",
   "execution_count": 4,
   "metadata": {},
   "outputs": [
    {
     "data": {
      "text/html": [
       "<table><tr><td>Sun</td><td>696000</td><td>1989100000</td></tr><tr><td>Earth</td><td>6371</td><td>5973.6</td></tr><tr><td>Moon</td><td>1737</td><td>73.5</td></tr><tr><td>Mars</td><td>3390</td><td>641.85</td></tr></table>"
      ],
      "text/plain": [
       "<IPython.core.display.HTML object>"
      ]
     },
     "metadata": {},
     "output_type": "display_data"
    }
   ],
   "source": [
    "from IPython.display import HTML, display\n",
    "\n",
    "table = [[\"Sun\",696000,1989100000],\n",
    "         [\"Earth\",6371,5973.6],\n",
    "         [\"Moon\",1737,73.5],\n",
    "         [\"Mars\",3390,641.85]]\n",
    "display(HTML(\n",
    "    '<table><tr>{}</tr></table>'.format(\n",
    "        '</tr><tr>'.join(\n",
    "            '<td>{}</td>'.format('</td><td>'.join(str(_) for _ in row)) for row in table)\n",
    "        )\n",
    " ))\n"
   ]
  },
  {
   "cell_type": "code",
   "execution_count": null,
   "metadata": {
    "collapsed": true
   },
   "outputs": [],
   "source": []
  }
 ],
 "metadata": {
  "kernelspec": {
   "display_name": "Python 2",
   "language": "python",
   "name": "python2"
  },
  "language_info": {
   "codemirror_mode": {
    "name": "ipython",
    "version": 2
   },
   "file_extension": ".py",
   "mimetype": "text/x-python",
   "name": "python",
   "nbconvert_exporter": "python",
   "pygments_lexer": "ipython2",
   "version": "2.7.13"
  }
 },
 "nbformat": 4,
 "nbformat_minor": 2
}
